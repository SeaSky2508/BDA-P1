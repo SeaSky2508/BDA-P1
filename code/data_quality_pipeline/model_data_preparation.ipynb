{
 "cells": [
  {
   "cell_type": "markdown",
   "metadata": {},
   "source": [
    "# Bringing data to explotation zone for the training of a SVM model"
   ]
  },
  {
   "cell_type": "markdown",
   "metadata": {},
   "source": [
    "## Data Loading"
   ]
  },
  {
   "cell_type": "code",
   "execution_count": 34,
   "metadata": {},
   "outputs": [
    {
     "name": "stdout",
     "output_type": "stream",
     "text": [
      "+-------+-----------+--------+------+------------------+--------------------+-------------------+--------+--------------------+-----------+--------------+--------+------------+-----------------+---------------+-------------------+------------------------------+--------------------------------+\n",
      "|barking|coat_length|drooling|energy|good_with_children|good_with_other_dogs|good_with_strangers|grooming|               breed|playfulness|protectiveness|shedding|trainability|avg_height_female|avg_height_male|avg_life_expectancy|avg_weight_male_log_normalized|avg_weight_female_log_normalized|\n",
      "+-------+-----------+--------+------+------------------+--------------------+-------------------+--------+--------------------+-----------+--------------+--------+------------+-----------------+---------------+-------------------+------------------------------+--------------------------------+\n",
      "|      1|          1|       0|     0|                 3|                   3|                  0|       0|    American Bulldog|          0|             0|       2|           4|             22.0|           24.0|               11.0|             4.483002552013883|              4.2626798770413155|\n",
      "|      1|          1|       1|     5|                 3|                   3|                  3|       1|Australian Cattle...|          3|             4|       3|           4|             19.0|           19.0|               14.0|            3.7727609380946383|              3.7727609380946383|\n",
      "|      1|          1|       1|     5|                 3|                   3|                  3|       1|   Australian Kelpie|          3|             4|       3|           4|             18.5|           18.5|               11.5|            3.7727609380946383|              3.7727609380946383|\n",
      "|      1|          1|       1|     5|                 3|                   1|                  1|       3|Australian Stumpy...|          3|             3|       3|           3|             19.0|           19.0|               13.5|            3.7495040759303713|              3.5409593240373143|\n",
      "|      1|          1|       1|     3|                 3|                   3|                  1|       2|             Azawakh|          3|             3|       2|           2|             27.0|           27.0|               13.5|            3.9219733362813143|               3.676300671907076|\n",
      "|      1|          1|       1|     4|                 3|                   3|                  3|       1|             Basenji|          3|             3|       2|           2|             17.0|           17.0|               13.5|            3.2188758248682006|              3.1354942159291497|\n",
      "|      1|          1|       2|     3|                 3|                   3|                  3|       1| Bergamasco Sheepdog|          3|             4|       1|           3|             23.5|           23.5|               14.0|             4.356708826689592|               4.174387269895637|\n",
      "|      1|          1|       2|     3|                 3|                   3|                  3|       4|              Briard|          3|             4|       1|           3|             25.0|           25.0|               12.0|             4.363098624788362|               4.363098624788362|\n",
      "|      1|          1|       3|     2|                 3|                   3|                  3|       1|           Broholmer|          3|             4|       3|           3|             28.5|           28.5|                9.0|             4.795790545596741|               4.795790545596741|\n",
      "|      1|          1|       3|     4|                 3|                   3|                  3|       1|         Bullmastiff|          3|             5|       3|           4|             26.0|           26.0|                8.0|             4.795790545596741|               4.709530201312334|\n",
      "|      1|          1|       2|     5|                 3|                   3|                  3|       2|Catahoula Leopard...|          3|             4|       3|           4|             23.0|           23.0|               12.0|             4.297285406218791|               4.297285406218791|\n",
      "|      1|          1|       3|     3|                 3|                   2|                  2|       3|           Chow Chow|          3|             5|       3|           3|             18.5|           18.5|               10.0|             4.069026754237811|               4.069026754237811|\n",
      "|      1|          1|       4|     3|                 3|                   3|                  4|       2|     Clumber Spaniel|          3|             3|       3|           4|             19.0|           19.0|               11.0|             4.363098624788362|               4.151039905898646|\n",
      "|      1|          1|       1|     3|                 5|                   5|                  5|       4|     Coton de Tulear|          4|             3|       2|           4|             10.5|           10.5|               17.0|            2.5649493574615367|              2.4423470353692043|\n",
      "|      1|          1|       3|     3|                 5|                   4|                  5|       1|      French Bulldog|          5|             3|       3|           4|             12.0|           12.0|               11.0|            3.2188758248682006|              3.1354942159291497|\n",
      "|      1|          1|       2|     3|                 5|                   5|                  5|       2|    Golden Retriever|          4|             3|       4|           5|             23.5|           23.5|               11.0|            4.2626798770413155|               4.110873864173311|\n",
      "|      1|          1|       2|     3|                 4|                   4|                  4|       2|            Hovawart|          4|             5|       3|           4|             25.5|           25.5|               12.0|             4.363098624788362|               4.363098624788362|\n",
      "|      1|          1|       2|     3|                 3|                   3|                  3|       3| Irish Water Spaniel|          5|             3|       1|           5|             23.0|           23.0|               12.5|             4.135166556742356|               3.960813169597578|\n",
      "|      1|          1|       2|     3|                 3|                   4|                  3|       2|     Irish Wolfhound|          3|             5|       3|           3|             33.0|           33.0|                7.0|             4.795790545596741|               4.663439094112067|\n",
      "|      1|          1|       1|     3|                 3|                   3|                  3|       1|         Jagdterrier|          4|             4|       2|           3|             14.5|           14.5|               11.0|            3.0204248861443626|              3.0204248861443626|\n",
      "+-------+-----------+--------+------+------------------+--------------------+-------------------+--------+--------------------+-----------+--------------+--------+------------+-----------------+---------------+-------------------+------------------------------+--------------------------------+\n",
      "only showing top 20 rows\n",
      "\n"
     ]
    },
    {
     "name": "stderr",
     "output_type": "stream",
     "text": [
      "                                                                                \r"
     ]
    }
   ],
   "source": [
    "from pyspark.sql import SparkSession\n",
    "from pyspark.conf import SparkConf\n",
    "from pyspark.sql.functions import UserDefinedFunction, col, mean, log1p, UserDefinedFunction, explode, rand, when\n",
    "from pyspark.ml.stat import Correlation\n",
    "from pyspark.ml.feature import VectorAssembler, StringIndexer, OneHotEncoder, MinMaxScaler\n",
    "import matplotlib.pyplot as plt\n",
    "import pandas as pd\n",
    "from pyspark.ml import Pipeline\n",
    "from pyspark.sql.types import FloatType\n",
    "import os\n",
    "\n",
    "\"\"\"\n",
    "Spark session variables declaration and spark initialization\n",
    "\"\"\"\n",
    "\n",
    "path = os.getcwd()\n",
    "\n",
    "conf = SparkConf() \\\n",
    "    .setAppName(\"PostgreSQL Writing to Formatted Table\") \\\n",
    "    .set(\"spark.jars\", path+\"/../..\"+\"/driver/postgresql-42.7.3.jar\")\n",
    "\n",
    "spark = SparkSession.builder \\\n",
    "    .config(conf=conf) \\\n",
    "    .getOrCreate()\n",
    "\n",
    "\n",
    "\"\"\"\n",
    "Connection details for table from formatted zone read\n",
    "\"\"\"\n",
    "\n",
    "jdbc_url = \"jdbc:postgresql://localhost:5432/bda_project1_db\"\n",
    "driver_class = \"org.postgresql.Driver\"\n",
    "user = \"postgres\"\n",
    "password = \"hola123\"\n",
    "connectionProperties = {\"user\": \"postgres\", \"password\": \"hola123\"}\n",
    "\n",
    "\n",
    "df_caract = spark.read \\\n",
    "    .format(\"jdbc\") \\\n",
    "    .option(\"url\", \"jdbc:postgresql://localhost:5432/bda_project1_db\") \\\n",
    "    .option(\"dbtable\", \"dog_caract_trusted\") \\\n",
    "    .option(\"user\", connectionProperties[\"user\"]) \\\n",
    "    .option(\"password\", connectionProperties[\"password\"]) \\\n",
    "    .option(\"driver\", \"org.postgresql.Driver\") \\\n",
    "    .load()\n",
    "\n",
    "df_caract = df_caract.withColumnRenamed(\"Breed\", \"breed\")\n",
    "\n",
    "df_caract.show()"
   ]
  },
  {
   "cell_type": "code",
   "execution_count": 2,
   "metadata": {},
   "outputs": [
    {
     "name": "stdout",
     "output_type": "stream",
     "text": [
      "+--------------------+--------------------+----+--------+\n",
      "|               breed|      classification|obey|avg_reps|\n",
      "+--------------------+--------------------+----+--------+\n",
      "|       Border Collie|      Brightest Dogs|  95|     2.5|\n",
      "|              Poodle|      Brightest Dogs|  95|     2.5|\n",
      "|     German Shepherd|      Brightest Dogs|  95|     2.5|\n",
      "|    Golden Retriever|      Brightest Dogs|  95|     2.5|\n",
      "|   Doberman Pinscher|      Brightest Dogs|  95|     2.5|\n",
      "|   Shetland Sheepdog|      Brightest Dogs|  95|     2.5|\n",
      "|  Labrador Retriever|      Brightest Dogs|  95|     2.5|\n",
      "|            Papillon|      Brightest Dogs|  95|     2.5|\n",
      "|          Rottweiler|      Brightest Dogs|  95|     2.5|\n",
      "|Australian Cattle...|      Brightest Dogs|  95|     2.5|\n",
      "|Pembroke Welsh Corgi|Excellent Working...|  85|    10.0|\n",
      "| Miniature Schnauzer|Excellent Working...|  85|    10.0|\n",
      "|English Springer ...|Excellent Working...|  85|    10.0|\n",
      "|Belgian Shepherd ...|Excellent Working...|  85|    10.0|\n",
      "|          Schipperke|Excellent Working...|  85|    10.0|\n",
      "|    Belgian Sheepdog|Excellent Working...|  85|    10.0|\n",
      "|              Collie|Excellent Working...|  85|    10.0|\n",
      "|            Keeshond|Excellent Working...|  85|    10.0|\n",
      "|German Shorthaire...|Excellent Working...|  85|    10.0|\n",
      "|Flat-Coated Retri...|Excellent Working...|  85|    10.0|\n",
      "+--------------------+--------------------+----+--------+\n",
      "only showing top 20 rows\n",
      "\n"
     ]
    }
   ],
   "source": [
    "df_intel = spark.read \\\n",
    "    .format(\"jdbc\") \\\n",
    "    .option(\"url\", \"jdbc:postgresql://localhost:5432/bda_project1_db\") \\\n",
    "    .option(\"dbtable\", \"dog_intelligence_trusted\") \\\n",
    "    .option(\"user\", connectionProperties[\"user\"]) \\\n",
    "    .option(\"password\", connectionProperties[\"password\"]) \\\n",
    "    .option(\"driver\", \"org.postgresql.Driver\") \\\n",
    "    .load()\n",
    "\n",
    "df_intel.show()"
   ]
  },
  {
   "cell_type": "markdown",
   "metadata": {},
   "source": [
    "## Table Join"
   ]
  },
  {
   "cell_type": "code",
   "execution_count": 3,
   "metadata": {},
   "outputs": [
    {
     "name": "stderr",
     "output_type": "stream",
     "text": [
      "[Stage 2:>                                                          (0 + 1) / 1]\r"
     ]
    },
    {
     "name": "stderr",
     "output_type": "stream",
     "text": [
      "                                                                                \r"
     ]
    },
    {
     "name": "stdout",
     "output_type": "stream",
     "text": [
      "112\n",
      "+-------+-----------+--------+------+------------------+--------------------+-------------------+--------+--------------------+-----------+--------------+--------+------------+-----------------+---------------+-------------------+------------------------------+--------------------------------+--------------------+----+--------+\n",
      "|barking|coat_length|drooling|energy|good_with_children|good_with_other_dogs|good_with_strangers|grooming|               breed|playfulness|protectiveness|shedding|trainability|avg_height_female|avg_height_male|avg_life_expectancy|avg_weight_male_log_normalized|avg_weight_female_log_normalized|      classification|obey|avg_reps|\n",
      "+-------+-----------+--------+------+------------------+--------------------+-------------------+--------+--------------------+-----------+--------------+--------+------------+-----------------+---------------+-------------------+------------------------------+--------------------------------+--------------------+----+--------+\n",
      "|      1|          1|       2|     3|                 3|                   3|                  3|       4|              Briard|          3|             4|       1|           3|             25.0|           25.0|               12.0|             4.363098624788362|               4.363098624788362|Above Average Wor...|  70|    20.5|\n",
      "|      3|          1|       2|     5|                 5|                   3|                  4|       1|   Doberman Pinscher|          4|             5|       4|           5|             27.0|           27.0|               11.0|             4.483002552013883|               4.330733340286331|      Brightest Dogs|  95|     2.5|\n",
      "|      3|          1|       1|     3|                 3|                   3|                  3|       4|             Maltese|          3|             4|       1|           3|              8.0|            8.0|               13.5|            2.1633230256605382|              2.1633230256605382|Fair Working/Obed...|  30|    60.5|\n",
      "|      3|          1|       3|     3|                 5|                   3|                  3|       4|Old English Sheepdog|          4|             4|       3|           4|             23.0|           21.0|               11.0|             4.394449154672439|               4.394449154672439|Fair Working/Obed...|  30|    60.5|\n",
      "|      2|          1|       1|     4|                 5|                   4|                  5|       2|      Boston Terrier|          5|             3|       2|           4|             16.0|           16.0|               12.0|             2.970414465569701|               2.970414465569701|Average Working/O...|  50|    33.0|\n",
      "|      3|          1|       3|     4|                 5|                   3|                  4|       2|Staffordshire Bul...|          4|             5|       2|           5|             15.0|           15.0|               13.0|            3.5263605246161616|              3.4011973816621555|Average Working/O...|  50|    33.0|\n",
      "|      3|          1|       2|     5|                 5|                   4|                  4|       4|Portuguese Water Dog|          5|             4|       2|           5|             21.5|           21.5|               12.0|            3.9512437185814275|              3.7727609380946383|Above Average Wor...|  70|    20.5|\n",
      "|      4|          1|       1|     3|                 3|                   3|                  4|       3|    Sealyham Terrier|          3|             5|       3|           4|             10.5|           10.5|               13.0|            3.1986731175506815|               3.091042453358316|Fair Working/Obed...|  30|    60.5|\n",
      "|      3|          1|       2|     3|                 3|                   3|                  3|       2|              Kuvasz|          3|             5|       3|           5|             29.0|           29.0|               11.0|             4.686750172980514|               4.394449154672439|Average Working/O...|  50|    33.0|\n",
      "|      5|          1|       1|     4|                 5|                   5|                  4|       4|      Bearded Collie|          4|             3|       3|           3|             21.5|           21.5|               13.0|            3.9318256327243257|              3.9318256327243257|Above Average Wor...|  70|    20.5|\n",
      "|      3|          1|       1|     3|                 5|                   1|                  3|       1|       Irish Terrier|          3|             5|       2|           3|             18.0|           18.0|               14.0|             3.332204510175204|               3.258096538021482|Average Working/O...|  50|    33.0|\n",
      "|      3|          1|       2|     5|                 5|                   5|                  5|       2|  Labrador Retriever|          5|             3|       4|           5|             23.5|           23.5|               11.0|             4.297285406218791|               4.151039905898646|      Brightest Dogs|  95|     2.5|\n",
      "|      4|          1|       2|     4|                 5|                   5|                  5|       3|            Keeshond|          5|             5|       3|           5|             18.0|           18.0|               13.5|             3.713572066704308|               3.713572066704308|Excellent Working...|  85|    10.0|\n",
      "|      3|          1|       3|     5|                 5|                   3|                  5|       2|Wirehaired Pointi...|          4|             3|       3|           5|             23.0|           23.0|               13.5|             4.110873864173311|              3.7727609380946383|Average Working/O...|  50|    33.0|\n",
      "|      1|          1|       3|     3|                 5|                   4|                  5|       1|      French Bulldog|          5|             3|       3|           4|             12.0|           12.0|               11.0|            3.2188758248682006|              3.1354942159291497|Fair Working/Obed...|  30|    60.5|\n",
      "|      4|          1|       2|     3|                 3|                   2|                  3|       3|    Scottish Terrier|          4|             5|       2|           3|             10.0|           10.0|               12.0|             3.068052935133617|              3.0204248861443626|Fair Working/Obed...|  30|    60.5|\n",
      "|      5|          1|       1|     4|                 5|                   5|                  3|       1|   American Foxhound|          3|             3|       3|           3|             23.5|           23.5|               12.0|              4.22683374526818|               4.151039905898646|Average Working/O...|  50|    33.0|\n",
      "|      3|          1|       1|     4|                 3|                   3|                  3|       3|  Bedlington Terrier|          3|             4|       1|           3|            16.25|          16.25|               13.5|             3.044522437723423|               3.044522437723423|Average Working/O...|  50|    33.0|\n",
      "|      3|          1|       3|     4|                 3|                   4|                  4|       2|English Springer ...|          4|             3|       3|           5|             20.0|           20.0|               13.0|            3.9318256327243257|               3.713572066704308|Excellent Working...|  85|    10.0|\n",
      "|      3|          2|       1|     3|                 3|                   3|                  3|       3|    Airedale Terrier|          3|             5|       1|           3|             23.0|           23.0|               12.5|             4.110873864173311|               4.110873864173311|Above Average Wor...|  70|    20.5|\n",
      "+-------+-----------+--------+------+------------------+--------------------+-------------------+--------+--------------------+-----------+--------------+--------+------------+-----------------+---------------+-------------------+------------------------------+--------------------------------+--------------------+----+--------+\n",
      "only showing top 20 rows\n",
      "\n"
     ]
    }
   ],
   "source": [
    "df = df_caract.join(df_intel, \n",
    "               df_caract.breed == df_intel.breed, \n",
    "               \"inner\").drop(df_intel.breed) # Drop allows to remove duplicates\n",
    "df = df.distinct()\n",
    "print(df.count())\n",
    "df.show()"
   ]
  },
  {
   "cell_type": "markdown",
   "metadata": {},
   "source": [
    "## Categorical Variables"
   ]
  },
  {
   "cell_type": "code",
   "execution_count": 4,
   "metadata": {},
   "outputs": [
    {
     "data": {
      "text/plain": [
       "'string_indexer = StringIndexer(inputCol=\"breed\", outputCol=\"breed_encoded\")\\n\\npipeline = Pipeline(stages=[string_indexer])\\n\\ndf = pipeline.fit(df).transform(df)\\n\\ndf = df.drop(\\'breed\\')'"
      ]
     },
     "execution_count": 4,
     "metadata": {},
     "output_type": "execute_result"
    }
   ],
   "source": [
    "\"\"\"string_indexer = StringIndexer(inputCol=\"breed\", outputCol=\"breed_encoded\")\n",
    "\n",
    "pipeline = Pipeline(stages=[string_indexer])\n",
    "\n",
    "df = pipeline.fit(df).transform(df)\n",
    "\n",
    "df = df.drop('breed')\"\"\""
   ]
  },
  {
   "cell_type": "code",
   "execution_count": 5,
   "metadata": {},
   "outputs": [
    {
     "name": "stderr",
     "output_type": "stream",
     "text": [
      "[Stage 22:>                                                         (0 + 1) / 1]\r"
     ]
    },
    {
     "name": "stdout",
     "output_type": "stream",
     "text": [
      "Classification variable has 5 modalities\n"
     ]
    },
    {
     "name": "stderr",
     "output_type": "stream",
     "text": [
      "                                                                                \r"
     ]
    }
   ],
   "source": [
    "print(\"Classification variable has\",len(set(df.rdd.map(lambda r: r.classification).collect())),\"modalities\")"
   ]
  },
  {
   "cell_type": "code",
   "execution_count": 7,
   "metadata": {},
   "outputs": [
    {
     "name": "stdout",
     "output_type": "stream",
     "text": [
      "+-------+-----------+--------+------+------------------+--------------------+-------------------+--------+--------------------+-----------+--------------+--------+------------+-----------------+---------------+-------------------+------------------------------+--------------------------------+--------------------+----+--------+-------------+----------------------+-----------------+---------------------+\n",
      "|barking|coat_length|drooling|energy|good_with_children|good_with_other_dogs|good_with_strangers|grooming|               breed|playfulness|protectiveness|shedding|trainability|avg_height_female|avg_height_male|avg_life_expectancy|avg_weight_male_log_normalized|avg_weight_female_log_normalized|      classification|obey|avg_reps|breed_indexed|classification_indexed|     breed_onehot|classification_onehot|\n",
      "+-------+-----------+--------+------+------------------+--------------------+-------------------+--------+--------------------+-----------+--------------+--------+------------+-----------------+---------------+-------------------+------------------------------+--------------------------------+--------------------+----+--------+-------------+----------------------+-----------------+---------------------+\n",
      "|      1|          1|       2|     3|                 3|                   3|                  3|       4|              Briard|          3|             4|       1|           3|             25.0|           25.0|               12.0|             4.363098624788362|               4.363098624788362|Above Average Wor...|  70|    20.5|         22.0|                   1.0| (111,[22],[1.0])|        (4,[1],[1.0])|\n",
      "|      3|          1|       2|     5|                 5|                   3|                  4|       1|   Doberman Pinscher|          4|             5|       4|           5|             27.0|           27.0|               11.0|             4.483002552013883|               4.330733340286331|      Brightest Dogs|  95|     2.5|         38.0|                   4.0| (111,[38],[1.0])|            (4,[],[])|\n",
      "|      3|          1|       1|     3|                 3|                   3|                  3|       4|             Maltese|          3|             4|       1|           3|              8.0|            8.0|               13.5|            2.1633230256605382|              2.1633230256605382|Fair Working/Obed...|  30|    60.5|         69.0|                   3.0| (111,[69],[1.0])|        (4,[3],[1.0])|\n",
      "|      3|          1|       3|     3|                 5|                   3|                  3|       4|Old English Sheepdog|          4|             4|       3|           4|             23.0|           21.0|               11.0|             4.394449154672439|               4.394449154672439|Fair Working/Obed...|  30|    60.5|         76.0|                   3.0| (111,[76],[1.0])|        (4,[3],[1.0])|\n",
      "|      2|          1|       1|     4|                 5|                   4|                  5|       2|      Boston Terrier|          5|             3|       2|           4|             16.0|           16.0|               12.0|             2.970414465569701|               2.970414465569701|Average Working/O...|  50|    33.0|         19.0|                   0.0| (111,[19],[1.0])|        (4,[0],[1.0])|\n",
      "|      3|          1|       3|     4|                 5|                   3|                  4|       2|Staffordshire Bul...|          4|             5|       2|           5|             15.0|           15.0|               13.0|            3.5263605246161616|              3.4011973816621555|Average Working/O...|  50|    33.0|         99.0|                   0.0| (111,[99],[1.0])|        (4,[0],[1.0])|\n",
      "|      3|          1|       2|     5|                 5|                   4|                  4|       4|Portuguese Water Dog|          5|             4|       2|           5|             21.5|           21.5|               12.0|            3.9512437185814275|              3.7727609380946383|Above Average Wor...|  70|    20.5|         83.0|                   1.0| (111,[83],[1.0])|        (4,[1],[1.0])|\n",
      "|      4|          1|       1|     3|                 3|                   3|                  4|       3|    Sealyham Terrier|          3|             5|       3|           4|             10.5|           10.5|               13.0|            3.1986731175506815|               3.091042453358316|Fair Working/Obed...|  30|    60.5|         94.0|                   3.0| (111,[94],[1.0])|        (4,[3],[1.0])|\n",
      "|      3|          1|       2|     3|                 3|                   3|                  3|       2|              Kuvasz|          3|             5|       3|           5|             29.0|           29.0|               11.0|             4.686750172980514|               4.394449154672439|Average Working/O...|  50|    33.0|         65.0|                   0.0| (111,[65],[1.0])|        (4,[0],[1.0])|\n",
      "|      5|          1|       1|     4|                 5|                   5|                  4|       4|      Bearded Collie|          4|             3|       3|           3|             21.5|           21.5|               13.0|            3.9318256327243257|              3.9318256327243257|Above Average Wor...|  70|    20.5|         10.0|                   1.0| (111,[10],[1.0])|        (4,[1],[1.0])|\n",
      "|      3|          1|       1|     3|                 5|                   1|                  3|       1|       Irish Terrier|          3|             5|       2|           3|             18.0|           18.0|               14.0|             3.332204510175204|               3.258096538021482|Average Working/O...|  50|    33.0|         58.0|                   0.0| (111,[58],[1.0])|        (4,[0],[1.0])|\n",
      "|      3|          1|       2|     5|                 5|                   5|                  5|       2|  Labrador Retriever|          5|             3|       4|           5|             23.5|           23.5|               11.0|             4.297285406218791|               4.151039905898646|      Brightest Dogs|  95|     2.5|         66.0|                   4.0| (111,[66],[1.0])|            (4,[],[])|\n",
      "|      4|          1|       2|     4|                 5|                   5|                  5|       3|            Keeshond|          5|             5|       3|           5|             18.0|           18.0|               13.5|             3.713572066704308|               3.713572066704308|Excellent Working...|  85|    10.0|         63.0|                   2.0| (111,[63],[1.0])|        (4,[2],[1.0])|\n",
      "|      3|          1|       3|     5|                 5|                   3|                  5|       2|Wirehaired Pointi...|          4|             3|       3|           5|             23.0|           23.0|               13.5|             4.110873864173311|              3.7727609380946383|Average Working/O...|  50|    33.0|        110.0|                   0.0|(111,[110],[1.0])|        (4,[0],[1.0])|\n",
      "|      1|          1|       3|     3|                 5|                   4|                  5|       1|      French Bulldog|          5|             3|       3|           4|             12.0|           12.0|               11.0|            3.2188758248682006|              3.1354942159291497|Fair Working/Obed...|  30|    60.5|         46.0|                   3.0| (111,[46],[1.0])|        (4,[3],[1.0])|\n",
      "|      4|          1|       2|     3|                 3|                   2|                  3|       3|    Scottish Terrier|          4|             5|       2|           3|             10.0|           10.0|               12.0|             3.068052935133617|              3.0204248861443626|Fair Working/Obed...|  30|    60.5|         93.0|                   3.0| (111,[93],[1.0])|        (4,[3],[1.0])|\n",
      "|      5|          1|       1|     4|                 5|                   5|                  3|       1|   American Foxhound|          3|             3|       3|           3|             23.5|           23.5|               12.0|              4.22683374526818|               4.151039905898646|Average Working/O...|  50|    33.0|          4.0|                   0.0|  (111,[4],[1.0])|        (4,[0],[1.0])|\n",
      "|      3|          1|       1|     4|                 3|                   3|                  3|       3|  Bedlington Terrier|          3|             4|       1|           3|            16.25|          16.25|               13.5|             3.044522437723423|               3.044522437723423|Average Working/O...|  50|    33.0|         11.0|                   0.0| (111,[11],[1.0])|        (4,[0],[1.0])|\n",
      "|      3|          1|       3|     4|                 3|                   4|                  4|       2|English Springer ...|          4|             3|       3|           5|             20.0|           20.0|               13.0|            3.9318256327243257|               3.713572066704308|Excellent Working...|  85|    10.0|         42.0|                   2.0| (111,[42],[1.0])|        (4,[2],[1.0])|\n",
      "|      3|          2|       1|     3|                 3|                   3|                  3|       3|    Airedale Terrier|          3|             5|       1|           3|             23.0|           23.0|               12.5|             4.110873864173311|               4.110873864173311|Above Average Wor...|  70|    20.5|          1.0|                   1.0|  (111,[1],[1.0])|        (4,[1],[1.0])|\n",
      "+-------+-----------+--------+------+------------------+--------------------+-------------------+--------+--------------------+-----------+--------------+--------+------------+-----------------+---------------+-------------------+------------------------------+--------------------------------+--------------------+----+--------+-------------+----------------------+-----------------+---------------------+\n",
      "only showing top 20 rows\n",
      "\n"
     ]
    }
   ],
   "source": [
    "categorical_variables = [\"breed\", \"classification\"]\n",
    "string_indexers, encoders = [], []\n",
    "\n",
    "for variable in categorical_variables:\n",
    "    string_indexers.append(StringIndexer(inputCol=variable, outputCol=variable+'_indexed'))\n",
    "    encoders.append(OneHotEncoder(inputCol=variable+'_indexed', outputCol=variable+\"_onehot\"))\n",
    "\n",
    "pipeline = Pipeline(stages=string_indexers + encoders)\n",
    "\n",
    "\n",
    "indexed_df = pipeline.fit(df).transform(df)\n",
    "indexed_df.show()"
   ]
  },
  {
   "cell_type": "markdown",
   "metadata": {},
   "source": [
    "## Numerical Variables"
   ]
  },
  {
   "cell_type": "code",
   "execution_count": 9,
   "metadata": {},
   "outputs": [
    {
     "name": "stderr",
     "output_type": "stream",
     "text": [
      "24/04/24 23:58:16 WARN SparkStringUtils: Truncated the string representation of a plan since it was too large. This behavior can be adjusted by setting 'spark.sql.debug.maxToStringFields'.\n",
      "[Stage 259:>                                                        (0 + 1) / 1]\r"
     ]
    },
    {
     "name": "stdout",
     "output_type": "stream",
     "text": [
      "+-------+-----------+--------+------+------------------+--------------------+-------------------+--------+--------------------+-----------+--------------+--------+------------+-----------------+---------------+-------------------+------------------------------+--------------------------------+--------------------+----+--------+-------------+----------------------+-----------------+---------------------+-----------+---------------+------------+----------+----------------------+------------------------+-----------------------+------------+---------------+------------------+------------+----------------+---------------------+-------------------+-----------------------+----------------------------------+------------------------------------+--------+------------+-----------------+--------------------------+--------------+------------------+---------------+-------------+-------------------------+---------------------------+--------------------------+---------------+------------------+---------------------+---------------+--------------------+------------------------+----------------------+--------------------------+-------------------------------------+---------------------------------------+--------------------+--------------------+--------------------+-----------------------------+\n",
      "|barking|coat_length|drooling|energy|good_with_children|good_with_other_dogs|good_with_strangers|grooming|               breed|playfulness|protectiveness|shedding|trainability|avg_height_female|avg_height_male|avg_life_expectancy|avg_weight_male_log_normalized|avg_weight_female_log_normalized|      classification|obey|avg_reps|breed_indexed|classification_indexed|     breed_onehot|classification_onehot|barking_vec|coat_length_vec|drooling_vec|energy_vec|good_with_children_vec|good_with_other_dogs_vec|good_with_strangers_vec|grooming_vec|playfulness_vec|protectiveness_vec|shedding_vec|trainability_vec|avg_height_female_vec|avg_height_male_vec|avg_life_expectancy_vec|avg_weight_male_log_normalized_vec|avg_weight_female_log_normalized_vec|obey_vec|avg_reps_vec|breed_indexed_vec|classification_indexed_vec|barking_scaled|coat_length_scaled|drooling_scaled|energy_scaled|good_with_children_scaled|good_with_other_dogs_scaled|good_with_strangers_scaled|grooming_scaled|playfulness_scaled|protectiveness_scaled|shedding_scaled| trainability_scaled|avg_height_female_scaled|avg_height_male_scaled|avg_life_expectancy_scaled|avg_weight_male_log_normalized_scaled|avg_weight_female_log_normalized_scaled|         obey_scaled|     avg_reps_scaled|breed_indexed_scaled|classification_indexed_scaled|\n",
      "+-------+-----------+--------+------+------------------+--------------------+-------------------+--------+--------------------+-----------+--------------+--------+------------+-----------------+---------------+-------------------+------------------------------+--------------------------------+--------------------+----+--------+-------------+----------------------+-----------------+---------------------+-----------+---------------+------------+----------+----------------------+------------------------+-----------------------+------------+---------------+------------------+------------+----------------+---------------------+-------------------+-----------------------+----------------------------------+------------------------------------+--------+------------+-----------------+--------------------------+--------------+------------------+---------------+-------------+-------------------------+---------------------------+--------------------------+---------------+------------------+---------------------+---------------+--------------------+------------------------+----------------------+--------------------------+-------------------------------------+---------------------------------------+--------------------+--------------------+--------------------+-----------------------------+\n",
      "|      1|          1|       2|     3|                 3|                   3|                  3|       4|              Briard|          3|             4|       1|           3|             25.0|           25.0|               12.0|             4.363098624788362|               4.363098624788362|Above Average Wor...|  70|    20.5|         22.0|                   1.0| (111,[22],[1.0])|        (4,[1],[1.0])|      [1.0]|          [1.0]|       [2.0]|     [3.0]|                 [3.0]|                   [3.0]|                  [3.0]|       [4.0]|          [3.0]|             [4.0]|       [1.0]|           [3.0]|               [25.0]|             [25.0]|                 [12.0]|               [4.363098624788362]|                 [4.363098624788362]|  [70.0]|      [20.5]|           [22.0]|                     [1.0]|         [0.0]|             [0.0]|         [0.25]|        [0.0]|                    [0.5]|                      [0.5]|                     [0.5]|         [0.75]|             [0.0]|               [0.75]|          [0.0]|[0.3333333333333333]|    [0.6981132075471698]|  [0.6981132075471698]|      [0.5882352941176471]|                 [0.7816464199151999]|                    [0.833919565541775]|[0.6153846153846154]|[0.3103448275862069]|[0.1981981981981982]|                       [0.25]|\n",
      "|      3|          1|       2|     5|                 5|                   3|                  4|       1|   Doberman Pinscher|          4|             5|       4|           5|             27.0|           27.0|               11.0|             4.483002552013883|               4.330733340286331|      Brightest Dogs|  95|     2.5|         38.0|                   4.0| (111,[38],[1.0])|            (4,[],[])|      [3.0]|          [1.0]|       [2.0]|     [5.0]|                 [5.0]|                   [3.0]|                  [4.0]|       [1.0]|          [4.0]|             [5.0]|       [4.0]|           [5.0]|               [27.0]|             [27.0]|                 [11.0]|               [4.483002552013883]|                 [4.330733340286331]|  [95.0]|       [2.5]|           [38.0]|                     [4.0]|         [0.5]|             [0.0]|         [0.25]|        [1.0]|                    [1.0]|                      [0.5]|                    [0.75]|          [0.0]|             [0.5]|                [1.0]|         [0.75]|               [1.0]|    [0.7735849056603773]|  [0.7735849056603773]|      [0.47058823529411...|                 [0.8180953166882818]|                   [0.8234230723303656]|               [1.0]|               [0.0]|[0.34234234234234...|                        [1.0]|\n",
      "|      3|          1|       1|     3|                 3|                   3|                  3|       4|             Maltese|          3|             4|       1|           3|              8.0|            8.0|               13.5|            2.1633230256605382|              2.1633230256605382|Fair Working/Obed...|  30|    60.5|         69.0|                   3.0| (111,[69],[1.0])|        (4,[3],[1.0])|      [3.0]|          [1.0]|       [1.0]|     [3.0]|                 [3.0]|                   [3.0]|                  [3.0]|       [4.0]|          [3.0]|             [4.0]|       [1.0]|           [3.0]|                [8.0]|              [8.0]|                 [13.5]|              [2.1633230256605382]|                [2.1633230256605382]|  [30.0]|      [60.5]|           [69.0]|                     [3.0]|         [0.5]|             [0.0]|          [0.0]|        [0.0]|                    [0.5]|                      [0.5]|                     [0.5]|         [0.75]|             [0.0]|               [0.75]|          [0.0]|[0.3333333333333333]|    [0.05660377358490...|  [0.05660377358490...|      [0.7647058823529411]|                 [0.11294944232789...|                   [0.12050301450172...|               [0.0]|               [1.0]|[0.6216216216216216]|                       [0.75]|\n",
      "|      3|          1|       3|     3|                 5|                   3|                  3|       4|Old English Sheepdog|          4|             4|       3|           4|             23.0|           21.0|               11.0|             4.394449154672439|               4.394449154672439|Fair Working/Obed...|  30|    60.5|         76.0|                   3.0| (111,[76],[1.0])|        (4,[3],[1.0])|      [3.0]|          [1.0]|       [3.0]|     [3.0]|                 [5.0]|                   [3.0]|                  [3.0]|       [4.0]|          [4.0]|             [4.0]|       [3.0]|           [4.0]|               [23.0]|             [21.0]|                 [11.0]|               [4.394449154672439]|                 [4.394449154672439]|  [30.0]|      [60.5]|           [76.0]|                     [3.0]|         [0.5]|             [0.0]|          [0.5]|        [0.0]|                    [1.0]|                      [0.5]|                     [0.5]|         [0.75]|             [0.5]|               [0.75]|          [0.5]|[0.6666666666666666]|    [0.6226415094339622]|  [0.5471698113207547]|      [0.47058823529411...|                 [0.7911764849761792]|                   [0.8440869603033334]|               [0.0]|               [1.0]|[0.6846846846846847]|                       [0.75]|\n",
      "|      2|          1|       1|     4|                 5|                   4|                  5|       2|      Boston Terrier|          5|             3|       2|           4|             16.0|           16.0|               12.0|             2.970414465569701|               2.970414465569701|Average Working/O...|  50|    33.0|         19.0|                   0.0| (111,[19],[1.0])|        (4,[0],[1.0])|      [2.0]|          [1.0]|       [1.0]|     [4.0]|                 [5.0]|                   [4.0]|                  [5.0]|       [2.0]|          [5.0]|             [3.0]|       [2.0]|           [4.0]|               [16.0]|             [16.0]|                 [12.0]|               [2.970414465569701]|                 [2.970414465569701]|  [50.0]|      [33.0]|           [19.0]|                     [0.0]|        [0.25]|             [0.0]|          [0.0]|        [0.5]|                    [1.0]|                     [0.75]|                     [1.0]|         [0.25]|             [1.0]|                [0.5]|         [0.25]|[0.6666666666666666]|    [0.3584905660377358]|  [0.3584905660377358]|      [0.5882352941176471]|                 [0.3582924703703105]|                   [0.3822535274459694]|[0.3076923076923077]|[0.5258620689655172]|[0.17117117117117...|                        [0.0]|\n",
      "|      3|          1|       3|     4|                 5|                   3|                  4|       2|Staffordshire Bul...|          4|             5|       2|           5|             15.0|           15.0|               13.0|            3.5263605246161616|              3.4011973816621555|Average Working/O...|  50|    33.0|         99.0|                   0.0| (111,[99],[1.0])|        (4,[0],[1.0])|      [3.0]|          [1.0]|       [3.0]|     [4.0]|                 [5.0]|                   [3.0]|                  [4.0]|       [2.0]|          [4.0]|             [5.0]|       [2.0]|           [5.0]|               [15.0]|             [15.0]|                 [13.0]|              [3.5263605246161616]|                [3.4011973816621555]|  [50.0]|      [33.0]|           [99.0]|                     [0.0]|         [0.5]|             [0.0]|          [0.5]|        [0.5]|                    [1.0]|                      [0.5]|                    [0.75]|         [0.25]|             [0.5]|                [1.0]|         [0.25]|               [1.0]|    [0.32075471698113...|  [0.32075471698113...|      [0.7058823529411764]|                 [0.5272912762182069]|                   [0.5219621697127104]|[0.3076923076923077]|[0.5258620689655172]|[0.8918918918918919]|                        [0.0]|\n",
      "|      3|          1|       2|     5|                 5|                   4|                  4|       4|Portuguese Water Dog|          5|             4|       2|           5|             21.5|           21.5|               12.0|            3.9512437185814275|              3.7727609380946383|Above Average Wor...|  70|    20.5|         83.0|                   1.0| (111,[83],[1.0])|        (4,[1],[1.0])|      [3.0]|          [1.0]|       [2.0]|     [5.0]|                 [5.0]|                   [4.0]|                  [4.0]|       [4.0]|          [5.0]|             [4.0]|       [2.0]|           [5.0]|               [21.5]|             [21.5]|                 [12.0]|              [3.9512437185814275]|                [3.7727609380946383]|  [70.0]|      [20.5]|           [83.0]|                     [1.0]|         [0.5]|             [0.0]|         [0.25]|        [1.0]|                    [1.0]|                     [0.75]|                    [0.75]|         [0.75]|             [1.0]|               [0.75]|         [0.25]|               [1.0]|    [0.5660377358490566]|  [0.5660377358490566]|      [0.5882352941176471]|                 [0.6564490447400796]|                   [0.6424651842144337]|[0.6153846153846154]|[0.3103448275862069]|[0.7477477477477478]|                       [0.25]|\n",
      "|      4|          1|       1|     3|                 3|                   3|                  4|       3|    Sealyham Terrier|          3|             5|       3|           4|             10.5|           10.5|               13.0|            3.1986731175506815|               3.091042453358316|Fair Working/Obed...|  30|    60.5|         94.0|                   3.0| (111,[94],[1.0])|        (4,[3],[1.0])|      [4.0]|          [1.0]|       [1.0]|     [3.0]|                 [3.0]|                   [3.0]|                  [4.0]|       [3.0]|          [3.0]|             [5.0]|       [3.0]|           [4.0]|               [10.5]|             [10.5]|                 [13.0]|              [3.1986731175506815]|                 [3.091042453358316]|  [30.0]|      [60.5]|           [94.0]|                     [3.0]|        [0.75]|             [0.0]|          [0.0]|        [0.0]|                    [0.5]|                      [0.5]|                    [0.75]|          [0.5]|             [0.0]|                [1.0]|          [0.5]|[0.6666666666666666]|    [0.1509433962264151]|  [0.1509433962264151]|      [0.7058823529411764]|                 [0.4276794890954716]|                   [0.42137479192457...|               [0.0]|               [1.0]|[0.8468468468468469]|                       [0.75]|\n",
      "|      3|          1|       2|     3|                 3|                   3|                  3|       2|              Kuvasz|          3|             5|       3|           5|             29.0|           29.0|               11.0|             4.686750172980514|               4.394449154672439|Average Working/O...|  50|    33.0|         65.0|                   0.0| (111,[65],[1.0])|        (4,[0],[1.0])|      [3.0]|          [1.0]|       [2.0]|     [3.0]|                 [3.0]|                   [3.0]|                  [3.0]|       [2.0]|          [3.0]|             [5.0]|       [3.0]|           [5.0]|               [29.0]|             [29.0]|                 [11.0]|               [4.686750172980514]|                 [4.394449154672439]|  [50.0]|      [33.0]|           [65.0]|                     [0.0]|         [0.5]|             [0.0]|         [0.25]|        [0.0]|                    [0.5]|                      [0.5]|                     [0.5]|         [0.25]|             [0.0]|                [1.0]|          [0.5]|               [1.0]|    [0.8490566037735848]|  [0.8490566037735848]|      [0.47058823529411...|                 [0.8800313697952485]|                   [0.8440869603033334]|[0.3076923076923077]|[0.5258620689655172]|[0.5855855855855856]|                        [0.0]|\n",
      "|      5|          1|       1|     4|                 5|                   5|                  4|       4|      Bearded Collie|          4|             3|       3|           3|             21.5|           21.5|               13.0|            3.9318256327243257|              3.9318256327243257|Above Average Wor...|  70|    20.5|         10.0|                   1.0| (111,[10],[1.0])|        (4,[1],[1.0])|      [5.0]|          [1.0]|       [1.0]|     [4.0]|                 [5.0]|                   [5.0]|                  [4.0]|       [4.0]|          [4.0]|             [3.0]|       [3.0]|           [3.0]|               [21.5]|             [21.5]|                 [13.0]|              [3.9318256327243257]|                [3.9318256327243257]|  [70.0]|      [20.5]|           [10.0]|                     [1.0]|         [1.0]|             [0.0]|          [0.0]|        [0.5]|                    [1.0]|                      [1.0]|                    [0.75]|         [0.75]|             [0.5]|                [0.5]|          [0.5]|[0.3333333333333333]|    [0.5660377358490566]|  [0.5660377358490566]|      [0.7058823529411764]|                 [0.6505462538698094]|                   [0.6940519851044624]|[0.6153846153846154]|[0.3103448275862069]|[0.09009009009009...|                       [0.25]|\n",
      "|      3|          1|       1|     3|                 5|                   1|                  3|       1|       Irish Terrier|          3|             5|       2|           3|             18.0|           18.0|               14.0|             3.332204510175204|               3.258096538021482|Average Working/O...|  50|    33.0|         58.0|                   0.0| (111,[58],[1.0])|        (4,[0],[1.0])|      [3.0]|          [1.0]|       [1.0]|     [3.0]|                 [5.0]|                   [1.0]|                  [3.0]|       [1.0]|          [3.0]|             [5.0]|       [2.0]|           [3.0]|               [18.0]|             [18.0]|                 [14.0]|               [3.332204510175204]|                 [3.258096538021482]|  [50.0]|      [33.0]|           [58.0]|                     [0.0]|         [0.5]|             [0.0]|          [0.0]|        [0.0]|                    [1.0]|                      [0.0]|                     [0.5]|          [0.0]|             [0.0]|                [1.0]|         [0.25]|[0.3333333333333333]|    [0.43396226415094...|  [0.43396226415094...|      [0.8235294117647058]|                 [0.4682709197379631]|                    [0.475552658505509]|[0.3076923076923077]|[0.5258620689655172]|[0.5225225225225225]|                        [0.0]|\n",
      "|      3|          1|       2|     5|                 5|                   5|                  5|       2|  Labrador Retriever|          5|             3|       4|           5|             23.5|           23.5|               11.0|             4.297285406218791|               4.151039905898646|      Brightest Dogs|  95|     2.5|         66.0|                   4.0| (111,[66],[1.0])|            (4,[],[])|      [3.0]|          [1.0]|       [2.0]|     [5.0]|                 [5.0]|                   [5.0]|                  [5.0]|       [2.0]|          [5.0]|             [3.0]|       [4.0]|           [5.0]|               [23.5]|             [23.5]|                 [11.0]|               [4.297285406218791]|                 [4.151039905898646]|  [95.0]|       [2.5]|           [66.0]|                     [4.0]|         [0.5]|             [0.0]|         [0.25]|        [1.0]|                    [1.0]|                      [1.0]|                     [1.0]|         [0.25]|             [1.0]|                [0.5]|         [0.75]|               [1.0]|    [0.6415094339622641]|  [0.6415094339622641]|      [0.47058823529411...|                 [0.7616402427577597]|                   [0.7651460961441438]|               [1.0]|               [0.0]|[0.5945945945945946]|                        [1.0]|\n",
      "|      4|          1|       2|     4|                 5|                   5|                  5|       3|            Keeshond|          5|             5|       3|           5|             18.0|           18.0|               13.5|             3.713572066704308|               3.713572066704308|Excellent Working...|  85|    10.0|         63.0|                   2.0| (111,[63],[1.0])|        (4,[2],[1.0])|      [4.0]|          [1.0]|       [2.0]|     [4.0]|                 [5.0]|                   [5.0]|                  [5.0]|       [3.0]|          [5.0]|             [5.0]|       [3.0]|           [5.0]|               [18.0]|             [18.0]|                 [13.5]|               [3.713572066704308]|                 [3.713572066704308]|  [85.0]|      [10.0]|           [63.0]|                     [2.0]|        [0.75]|             [0.0]|         [0.25]|        [0.5]|                    [1.0]|                      [1.0]|                     [1.0]|          [0.5]|             [1.0]|                [1.0]|          [0.5]|               [1.0]|    [0.43396226415094...|  [0.43396226415094...|      [0.7647058823529411]|                 [0.5842006229776844]|                   [0.6232694442016866]|[0.8461538461538463]|[0.12931034482758...|[0.5675675675675675]|                        [0.5]|\n",
      "|      3|          1|       3|     5|                 5|                   3|                  5|       2|Wirehaired Pointi...|          4|             3|       3|           5|             23.0|           23.0|               13.5|             4.110873864173311|              3.7727609380946383|Average Working/O...|  50|    33.0|        110.0|                   0.0|(111,[110],[1.0])|        (4,[0],[1.0])|      [3.0]|          [1.0]|       [3.0]|     [5.0]|                 [5.0]|                   [3.0]|                  [5.0]|       [2.0]|          [4.0]|             [3.0]|       [3.0]|           [5.0]|               [23.0]|             [23.0]|                 [13.5]|               [4.110873864173311]|                [3.7727609380946383]|  [50.0]|      [33.0]|          [110.0]|                     [0.0]|         [0.5]|             [0.0]|          [0.5]|        [1.0]|                    [1.0]|                      [0.5]|                     [1.0]|         [0.25]|             [0.5]|                [0.5]|          [0.5]|               [1.0]|    [0.6226415094339622]|  [0.6226415094339622]|      [0.7647058823529411]|                 [0.7049740833537622]|                   [0.6424651842144337]|[0.3076923076923077]|[0.5258620689655172]| [0.990990990990991]|                        [0.0]|\n",
      "|      1|          1|       3|     3|                 5|                   4|                  5|       1|      French Bulldog|          5|             3|       3|           4|             12.0|           12.0|               11.0|            3.2188758248682006|              3.1354942159291497|Fair Working/Obed...|  30|    60.5|         46.0|                   3.0| (111,[46],[1.0])|        (4,[3],[1.0])|      [1.0]|          [1.0]|       [3.0]|     [3.0]|                 [5.0]|                   [4.0]|                  [5.0]|       [1.0]|          [5.0]|             [3.0]|       [3.0]|           [4.0]|               [12.0]|             [12.0]|                 [11.0]|              [3.2188758248682006]|                [3.1354942159291497]|  [30.0]|      [60.5]|           [46.0]|                     [3.0]|         [0.0]|             [0.0]|          [0.5]|        [0.0]|                    [1.0]|                     [0.75]|                     [1.0]|          [0.0]|             [1.0]|                [0.5]|          [0.5]|[0.6666666666666666]|    [0.20754716981132...|  [0.20754716981132...|      [0.47058823529411...|                 [0.4338207924755356]|                   [0.4357910910932273]|               [0.0]|               [1.0]|[0.4144144144144144]|                       [0.75]|\n",
      "|      4|          1|       2|     3|                 3|                   2|                  3|       3|    Scottish Terrier|          4|             5|       2|           3|             10.0|           10.0|               12.0|             3.068052935133617|              3.0204248861443626|Fair Working/Obed...|  30|    60.5|         93.0|                   3.0| (111,[93],[1.0])|        (4,[3],[1.0])|      [4.0]|          [1.0]|       [2.0]|     [3.0]|                 [3.0]|                   [2.0]|                  [3.0]|       [3.0]|          [4.0]|             [5.0]|       [2.0]|           [3.0]|               [10.0]|             [10.0]|                 [12.0]|               [3.068052935133617]|                [3.0204248861443626]|  [30.0]|      [60.5]|           [93.0]|                     [3.0]|        [0.75]|             [0.0]|         [0.25]|        [0.0]|                    [0.5]|                     [0.25]|                     [0.5]|          [0.5]|             [0.5]|                [1.0]|         [0.25]|[0.3333333333333333]|    [0.1320754716981132]|  [0.1320754716981132]|      [0.5882352941176471]|                 [0.3879730202952791]|                   [0.3984725735052963]|               [0.0]|               [1.0]|[0.8378378378378378]|                       [0.75]|\n",
      "|      5|          1|       1|     4|                 5|                   5|                  3|       1|   American Foxhound|          3|             3|       3|           3|             23.5|           23.5|               12.0|              4.22683374526818|               4.151039905898646|Average Working/O...|  50|    33.0|          4.0|                   0.0|  (111,[4],[1.0])|        (4,[0],[1.0])|      [5.0]|          [1.0]|       [1.0]|     [4.0]|                 [5.0]|                   [5.0]|                  [3.0]|       [1.0]|          [3.0]|             [3.0]|       [3.0]|           [3.0]|               [23.5]|             [23.5]|                 [12.0]|                [4.22683374526818]|                 [4.151039905898646]|  [50.0]|      [33.0]|            [4.0]|                     [0.0]|         [1.0]|             [0.0]|          [0.0]|        [0.5]|                    [1.0]|                      [1.0]|                     [0.5]|          [0.0]|             [0.0]|                [0.5]|          [0.5]|[0.3333333333333333]|    [0.6415094339622641]|  [0.6415094339622641]|      [0.5882352941176471]|                 [0.7402240525052821]|                   [0.7651460961441438]|[0.3076923076923077]|[0.5258620689655172]|[0.03603603603603...|                        [0.0]|\n",
      "|      3|          1|       1|     4|                 3|                   3|                  3|       3|  Bedlington Terrier|          3|             4|       1|           3|            16.25|          16.25|               13.5|             3.044522437723423|               3.044522437723423|Average Working/O...|  50|    33.0|         11.0|                   0.0| (111,[11],[1.0])|        (4,[0],[1.0])|      [3.0]|          [1.0]|       [1.0]|     [4.0]|                 [3.0]|                   [3.0]|                  [3.0]|       [3.0]|          [3.0]|             [4.0]|       [1.0]|           [3.0]|              [16.25]|            [16.25]|                 [13.5]|               [3.044522437723423]|                 [3.044522437723423]|  [50.0]|      [33.0]|           [11.0]|                     [0.0]|         [0.5]|             [0.0]|          [0.0]|        [0.5]|                    [0.5]|                      [0.5]|                     [0.5]|          [0.5]|             [0.0]|               [0.75]|          [0.0]|[0.3333333333333333]|    [0.36792452830188...|  [0.36792452830188...|      [0.7647058823529411]|                 [0.38082012137887...|                   [0.40628773071626...|[0.3076923076923077]|[0.5258620689655172]|[0.0990990990990991]|                        [0.0]|\n",
      "|      3|          1|       3|     4|                 3|                   4|                  4|       2|English Springer ...|          4|             3|       3|           5|             20.0|           20.0|               13.0|            3.9318256327243257|               3.713572066704308|Excellent Working...|  85|    10.0|         42.0|                   2.0| (111,[42],[1.0])|        (4,[2],[1.0])|      [3.0]|          [1.0]|       [3.0]|     [4.0]|                 [3.0]|                   [4.0]|                  [4.0]|       [2.0]|          [4.0]|             [3.0]|       [3.0]|           [5.0]|               [20.0]|             [20.0]|                 [13.0]|              [3.9318256327243257]|                 [3.713572066704308]|  [85.0]|      [10.0]|           [42.0]|                     [2.0]|         [0.5]|             [0.0]|          [0.5]|        [0.5]|                    [0.5]|                     [0.75]|                    [0.75]|         [0.25]|             [0.5]|                [0.5]|          [0.5]|               [1.0]|    [0.5094339622641509]|  [0.5094339622641509]|      [0.7058823529411764]|                 [0.6505462538698094]|                   [0.6232694442016866]|[0.8461538461538463]|[0.12931034482758...|[0.3783783783783784]|                        [0.5]|\n",
      "|      3|          2|       1|     3|                 3|                   3|                  3|       3|    Airedale Terrier|          3|             5|       1|           3|             23.0|           23.0|               12.5|             4.110873864173311|               4.110873864173311|Above Average Wor...|  70|    20.5|          1.0|                   1.0|  (111,[1],[1.0])|        (4,[1],[1.0])|      [3.0]|          [2.0]|       [1.0]|     [3.0]|                 [3.0]|                   [3.0]|                  [3.0]|       [3.0]|          [3.0]|             [5.0]|       [1.0]|           [3.0]|               [23.0]|             [23.0]|                 [12.5]|               [4.110873864173311]|                 [4.110873864173311]|  [70.0]|      [20.5]|            [1.0]|                     [1.0]|         [0.5]|             [1.0]|          [0.0]|        [0.0]|                    [0.5]|                      [0.5]|                     [0.5]|          [0.5]|             [0.0]|                [1.0]|          [0.0]|[0.3333333333333333]|    [0.6226415094339622]|  [0.6226415094339622]|      [0.6470588235294118]|                 [0.7049740833537622]|                   [0.7521197133767469]|[0.6153846153846154]|[0.3103448275862069]|[0.00900900900900...|                       [0.25]|\n",
      "+-------+-----------+--------+------+------------------+--------------------+-------------------+--------+--------------------+-----------+--------------+--------+------------+-----------------+---------------+-------------------+------------------------------+--------------------------------+--------------------+----+--------+-------------+----------------------+-----------------+---------------------+-----------+---------------+------------+----------+----------------------+------------------------+-----------------------+------------+---------------+------------------+------------+----------------+---------------------+-------------------+-----------------------+----------------------------------+------------------------------------+--------+------------+-----------------+--------------------------+--------------+------------------+---------------+-------------+-------------------------+---------------------------+--------------------------+---------------+------------------+---------------------+---------------+--------------------+------------------------+----------------------+--------------------------+-------------------------------------+---------------------------------------+--------------------+--------------------+--------------------+-----------------------------+\n",
      "only showing top 20 rows\n",
      "\n"
     ]
    },
    {
     "name": "stderr",
     "output_type": "stream",
     "text": [
      "                                                                                \r"
     ]
    }
   ],
   "source": [
    "assemblers = []\n",
    "scalers = []\n",
    "for name, dtype in indexed_df.dtypes:\n",
    "    if name == 'avg_reps':\n",
    "        continue\n",
    "    if dtype in [\"int\",\"bigint\",\"double\"]:\n",
    "        assemblers.append(VectorAssembler(inputCols=[name], outputCol=name + \"_vec\"))\n",
    "        scalers.append(MinMaxScaler(inputCol=name + \"_vec\", outputCol=name + \"_scaled\"))\n",
    "\n",
    "pipeline = Pipeline(stages=assemblers + scalers)\n",
    "scalerModel = pipeline.fit(indexed_df)\n",
    "scaledData = scalerModel.transform(indexed_df)\n",
    "scaledData.show()"
   ]
  },
  {
   "cell_type": "markdown",
   "metadata": {},
   "source": [
    "## Variable Selection"
   ]
  },
  {
   "cell_type": "code",
   "execution_count": 16,
   "metadata": {},
   "outputs": [
    {
     "name": "stderr",
     "output_type": "stream",
     "text": [
      "24/04/25 00:03:31 WARN DAGScheduler: Broadcasting large task binary with size 1057.8 KiB\n"
     ]
    },
    {
     "name": "stderr",
     "output_type": "stream",
     "text": [
      "[Stage 271:>                                                        (0 + 1) / 1]\r"
     ]
    },
    {
     "name": "stdout",
     "output_type": "stream",
     "text": [
      "+--------+---------------------+-----------------+--------------+------------------+---------------+-------------+-------------------------+---------------------------+--------------------------+---------------+------------------+---------------------+---------------+--------------------+------------------------+----------------------+--------------------------+-------------------------------------+---------------------------------------+--------------------+--------------------+--------------------+-----------------------------+\n",
      "|avg_reps|classification_onehot|     breed_onehot|barking_scaled|coat_length_scaled|drooling_scaled|energy_scaled|good_with_children_scaled|good_with_other_dogs_scaled|good_with_strangers_scaled|grooming_scaled|playfulness_scaled|protectiveness_scaled|shedding_scaled| trainability_scaled|avg_height_female_scaled|avg_height_male_scaled|avg_life_expectancy_scaled|avg_weight_male_log_normalized_scaled|avg_weight_female_log_normalized_scaled|         obey_scaled|     avg_reps_scaled|breed_indexed_scaled|classification_indexed_scaled|\n",
      "+--------+---------------------+-----------------+--------------+------------------+---------------+-------------+-------------------------+---------------------------+--------------------------+---------------+------------------+---------------------+---------------+--------------------+------------------------+----------------------+--------------------------+-------------------------------------+---------------------------------------+--------------------+--------------------+--------------------+-----------------------------+\n",
      "|    20.5|        (4,[1],[1.0])| (111,[22],[1.0])|         [0.0]|             [0.0]|         [0.25]|        [0.0]|                    [0.5]|                      [0.5]|                     [0.5]|         [0.75]|             [0.0]|               [0.75]|          [0.0]|[0.3333333333333333]|    [0.6981132075471698]|  [0.6981132075471698]|      [0.5882352941176471]|                 [0.7816464199151999]|                    [0.833919565541775]|[0.6153846153846154]|[0.3103448275862069]|[0.1981981981981982]|                       [0.25]|\n",
      "|     2.5|            (4,[],[])| (111,[38],[1.0])|         [0.5]|             [0.0]|         [0.25]|        [1.0]|                    [1.0]|                      [0.5]|                    [0.75]|          [0.0]|             [0.5]|                [1.0]|         [0.75]|               [1.0]|    [0.7735849056603773]|  [0.7735849056603773]|      [0.47058823529411...|                 [0.8180953166882818]|                   [0.8234230723303656]|               [1.0]|               [0.0]|[0.34234234234234...|                        [1.0]|\n",
      "|    60.5|        (4,[3],[1.0])| (111,[69],[1.0])|         [0.5]|             [0.0]|          [0.0]|        [0.0]|                    [0.5]|                      [0.5]|                     [0.5]|         [0.75]|             [0.0]|               [0.75]|          [0.0]|[0.3333333333333333]|    [0.05660377358490...|  [0.05660377358490...|      [0.7647058823529411]|                 [0.11294944232789...|                   [0.12050301450172...|               [0.0]|               [1.0]|[0.6216216216216216]|                       [0.75]|\n",
      "|    60.5|        (4,[3],[1.0])| (111,[76],[1.0])|         [0.5]|             [0.0]|          [0.5]|        [0.0]|                    [1.0]|                      [0.5]|                     [0.5]|         [0.75]|             [0.5]|               [0.75]|          [0.5]|[0.6666666666666666]|    [0.6226415094339622]|  [0.5471698113207547]|      [0.47058823529411...|                 [0.7911764849761792]|                   [0.8440869603033334]|               [0.0]|               [1.0]|[0.6846846846846847]|                       [0.75]|\n",
      "|    33.0|        (4,[0],[1.0])| (111,[19],[1.0])|        [0.25]|             [0.0]|          [0.0]|        [0.5]|                    [1.0]|                     [0.75]|                     [1.0]|         [0.25]|             [1.0]|                [0.5]|         [0.25]|[0.6666666666666666]|    [0.3584905660377358]|  [0.3584905660377358]|      [0.5882352941176471]|                 [0.3582924703703105]|                   [0.3822535274459694]|[0.3076923076923077]|[0.5258620689655172]|[0.17117117117117...|                        [0.0]|\n",
      "|    33.0|        (4,[0],[1.0])| (111,[99],[1.0])|         [0.5]|             [0.0]|          [0.5]|        [0.5]|                    [1.0]|                      [0.5]|                    [0.75]|         [0.25]|             [0.5]|                [1.0]|         [0.25]|               [1.0]|    [0.32075471698113...|  [0.32075471698113...|      [0.7058823529411764]|                 [0.5272912762182069]|                   [0.5219621697127104]|[0.3076923076923077]|[0.5258620689655172]|[0.8918918918918919]|                        [0.0]|\n",
      "|    20.5|        (4,[1],[1.0])| (111,[83],[1.0])|         [0.5]|             [0.0]|         [0.25]|        [1.0]|                    [1.0]|                     [0.75]|                    [0.75]|         [0.75]|             [1.0]|               [0.75]|         [0.25]|               [1.0]|    [0.5660377358490566]|  [0.5660377358490566]|      [0.5882352941176471]|                 [0.6564490447400796]|                   [0.6424651842144337]|[0.6153846153846154]|[0.3103448275862069]|[0.7477477477477478]|                       [0.25]|\n",
      "|    60.5|        (4,[3],[1.0])| (111,[94],[1.0])|        [0.75]|             [0.0]|          [0.0]|        [0.0]|                    [0.5]|                      [0.5]|                    [0.75]|          [0.5]|             [0.0]|                [1.0]|          [0.5]|[0.6666666666666666]|    [0.1509433962264151]|  [0.1509433962264151]|      [0.7058823529411764]|                 [0.4276794890954716]|                   [0.42137479192457...|               [0.0]|               [1.0]|[0.8468468468468469]|                       [0.75]|\n",
      "|    33.0|        (4,[0],[1.0])| (111,[65],[1.0])|         [0.5]|             [0.0]|         [0.25]|        [0.0]|                    [0.5]|                      [0.5]|                     [0.5]|         [0.25]|             [0.0]|                [1.0]|          [0.5]|               [1.0]|    [0.8490566037735848]|  [0.8490566037735848]|      [0.47058823529411...|                 [0.8800313697952485]|                   [0.8440869603033334]|[0.3076923076923077]|[0.5258620689655172]|[0.5855855855855856]|                        [0.0]|\n",
      "|    20.5|        (4,[1],[1.0])| (111,[10],[1.0])|         [1.0]|             [0.0]|          [0.0]|        [0.5]|                    [1.0]|                      [1.0]|                    [0.75]|         [0.75]|             [0.5]|                [0.5]|          [0.5]|[0.3333333333333333]|    [0.5660377358490566]|  [0.5660377358490566]|      [0.7058823529411764]|                 [0.6505462538698094]|                   [0.6940519851044624]|[0.6153846153846154]|[0.3103448275862069]|[0.09009009009009...|                       [0.25]|\n",
      "|    33.0|        (4,[0],[1.0])| (111,[58],[1.0])|         [0.5]|             [0.0]|          [0.0]|        [0.0]|                    [1.0]|                      [0.0]|                     [0.5]|          [0.0]|             [0.0]|                [1.0]|         [0.25]|[0.3333333333333333]|    [0.43396226415094...|  [0.43396226415094...|      [0.8235294117647058]|                 [0.4682709197379631]|                    [0.475552658505509]|[0.3076923076923077]|[0.5258620689655172]|[0.5225225225225225]|                        [0.0]|\n",
      "|     2.5|            (4,[],[])| (111,[66],[1.0])|         [0.5]|             [0.0]|         [0.25]|        [1.0]|                    [1.0]|                      [1.0]|                     [1.0]|         [0.25]|             [1.0]|                [0.5]|         [0.75]|               [1.0]|    [0.6415094339622641]|  [0.6415094339622641]|      [0.47058823529411...|                 [0.7616402427577597]|                   [0.7651460961441438]|               [1.0]|               [0.0]|[0.5945945945945946]|                        [1.0]|\n",
      "|    10.0|        (4,[2],[1.0])| (111,[63],[1.0])|        [0.75]|             [0.0]|         [0.25]|        [0.5]|                    [1.0]|                      [1.0]|                     [1.0]|          [0.5]|             [1.0]|                [1.0]|          [0.5]|               [1.0]|    [0.43396226415094...|  [0.43396226415094...|      [0.7647058823529411]|                 [0.5842006229776844]|                   [0.6232694442016866]|[0.8461538461538463]|[0.12931034482758...|[0.5675675675675675]|                        [0.5]|\n",
      "|    33.0|        (4,[0],[1.0])|(111,[110],[1.0])|         [0.5]|             [0.0]|          [0.5]|        [1.0]|                    [1.0]|                      [0.5]|                     [1.0]|         [0.25]|             [0.5]|                [0.5]|          [0.5]|               [1.0]|    [0.6226415094339622]|  [0.6226415094339622]|      [0.7647058823529411]|                 [0.7049740833537622]|                   [0.6424651842144337]|[0.3076923076923077]|[0.5258620689655172]| [0.990990990990991]|                        [0.0]|\n",
      "|    60.5|        (4,[3],[1.0])| (111,[46],[1.0])|         [0.0]|             [0.0]|          [0.5]|        [0.0]|                    [1.0]|                     [0.75]|                     [1.0]|          [0.0]|             [1.0]|                [0.5]|          [0.5]|[0.6666666666666666]|    [0.20754716981132...|  [0.20754716981132...|      [0.47058823529411...|                 [0.4338207924755356]|                   [0.4357910910932273]|               [0.0]|               [1.0]|[0.4144144144144144]|                       [0.75]|\n",
      "|    60.5|        (4,[3],[1.0])| (111,[93],[1.0])|        [0.75]|             [0.0]|         [0.25]|        [0.0]|                    [0.5]|                     [0.25]|                     [0.5]|          [0.5]|             [0.5]|                [1.0]|         [0.25]|[0.3333333333333333]|    [0.1320754716981132]|  [0.1320754716981132]|      [0.5882352941176471]|                 [0.3879730202952791]|                   [0.3984725735052963]|               [0.0]|               [1.0]|[0.8378378378378378]|                       [0.75]|\n",
      "|    33.0|        (4,[0],[1.0])|  (111,[4],[1.0])|         [1.0]|             [0.0]|          [0.0]|        [0.5]|                    [1.0]|                      [1.0]|                     [0.5]|          [0.0]|             [0.0]|                [0.5]|          [0.5]|[0.3333333333333333]|    [0.6415094339622641]|  [0.6415094339622641]|      [0.5882352941176471]|                 [0.7402240525052821]|                   [0.7651460961441438]|[0.3076923076923077]|[0.5258620689655172]|[0.03603603603603...|                        [0.0]|\n",
      "|    33.0|        (4,[0],[1.0])| (111,[11],[1.0])|         [0.5]|             [0.0]|          [0.0]|        [0.5]|                    [0.5]|                      [0.5]|                     [0.5]|          [0.5]|             [0.0]|               [0.75]|          [0.0]|[0.3333333333333333]|    [0.36792452830188...|  [0.36792452830188...|      [0.7647058823529411]|                 [0.38082012137887...|                   [0.40628773071626...|[0.3076923076923077]|[0.5258620689655172]|[0.0990990990990991]|                        [0.0]|\n",
      "|    10.0|        (4,[2],[1.0])| (111,[42],[1.0])|         [0.5]|             [0.0]|          [0.5]|        [0.5]|                    [0.5]|                     [0.75]|                    [0.75]|         [0.25]|             [0.5]|                [0.5]|          [0.5]|               [1.0]|    [0.5094339622641509]|  [0.5094339622641509]|      [0.7058823529411764]|                 [0.6505462538698094]|                   [0.6232694442016866]|[0.8461538461538463]|[0.12931034482758...|[0.3783783783783784]|                        [0.5]|\n",
      "|    20.5|        (4,[1],[1.0])|  (111,[1],[1.0])|         [0.5]|             [1.0]|          [0.0]|        [0.0]|                    [0.5]|                      [0.5]|                     [0.5]|          [0.5]|             [0.0]|                [1.0]|          [0.0]|[0.3333333333333333]|    [0.6226415094339622]|  [0.6226415094339622]|      [0.6470588235294118]|                 [0.7049740833537622]|                   [0.7521197133767469]|[0.6153846153846154]|[0.3103448275862069]|[0.00900900900900...|                       [0.25]|\n",
      "+--------+---------------------+-----------------+--------------+------------------+---------------+-------------+-------------------------+---------------------------+--------------------------+---------------+------------------+---------------------+---------------+--------------------+------------------------+----------------------+--------------------------+-------------------------------------+---------------------------------------+--------------------+--------------------+--------------------+-----------------------------+\n",
      "only showing top 20 rows\n",
      "\n"
     ]
    },
    {
     "name": "stderr",
     "output_type": "stream",
     "text": [
      "                                                                                \r"
     ]
    }
   ],
   "source": [
    "scaled_vars = [var for var, dtype in scaledData.dtypes if var[-6:] == \"scaled\"]\n",
    "df_regression = scaledData.select('avg_reps','classification_onehot','breed_onehot',*scaled_vars)\n",
    "df_regression.show()"
   ]
  },
  {
   "cell_type": "markdown",
   "metadata": {},
   "source": [
    "# SVM Training"
   ]
  },
  {
   "cell_type": "code",
   "execution_count": 42,
   "metadata": {},
   "outputs": [],
   "source": [
    "from pyspark.ml.regression import LinearRegression\n",
    "from pyspark.ml.evaluation import RegressionEvaluator"
   ]
  },
  {
   "cell_type": "code",
   "execution_count": 50,
   "metadata": {},
   "outputs": [
    {
     "name": "stderr",
     "output_type": "stream",
     "text": [
      "24/04/25 00:51:33 WARN DAGScheduler: Broadcasting large task binary with size 1231.3 KiB\n",
      "24/04/25 00:51:36 WARN DAGScheduler: Broadcasting large task binary with size 1221.2 KiB\n",
      "                                                                                \r"
     ]
    },
    {
     "data": {
      "text/plain": [
       "PipelineModel_6dd684ac0c41"
      ]
     },
     "execution_count": 50,
     "metadata": {},
     "output_type": "execute_result"
    }
   ],
   "source": [
    "df_regression = df_regression.withColumn('isVal', when(rand() > 0.5, 1).otherwise(0))\n",
    "\n",
    "train = df_regression.where(col(\"isVal\") > 0.5)\n",
    "\n",
    "test = df_regression.where(col(\"isVal\") < 0.5)\n",
    "\n",
    "train = train.drop('isVal')\n",
    "\n",
    "test = test.drop('isVal')\n",
    "\n",
    "assembler = VectorAssembler(inputCols=scaled_vars + [colum.getOutputCol() for colum in encoders], outputCol=\"features\")\n",
    "\n",
    "linear_regression = LinearRegression(labelCol=\"avg_reps\",predictionCol=\"predicted_avg_reps\", featuresCol=\"features\",regParam=0.1)\n",
    "\n",
    "pipeline = Pipeline(stages=[assembler, linear_regression])\n",
    "\n",
    "model = pipeline.fit(train)\n",
    "\n",
    "model"
   ]
  },
  {
   "cell_type": "code",
   "execution_count": 51,
   "metadata": {},
   "outputs": [
    {
     "name": "stderr",
     "output_type": "stream",
     "text": [
      "24/04/25 00:51:56 WARN DAGScheduler: Broadcasting large task binary with size 1222.9 KiB\n",
      "[Stage 400:>                                                        (0 + 1) / 1]\r"
     ]
    },
    {
     "name": "stdout",
     "output_type": "stream",
     "text": [
      "Root Mean Squared Error (RMSE) on test data: 6.185\n"
     ]
    },
    {
     "name": "stderr",
     "output_type": "stream",
     "text": [
      "                                                                                \r"
     ]
    }
   ],
   "source": [
    "predictions = model.transform(test)\n",
    "\n",
    "# Evaluate the model using MSE\n",
    "\n",
    "evaluator = RegressionEvaluator(labelCol=\"avg_reps\", predictionCol=\"predicted_avg_reps\", metricName=\"mse\")\n",
    "rmse = evaluator.evaluate(predictions)\n",
    "print(\"Root Mean Squared Error (RMSE) on test data: {:.3f}\".format(rmse))"
   ]
  },
  {
   "cell_type": "code",
   "execution_count": 47,
   "metadata": {},
   "outputs": [
    {
     "data": {
      "text/plain": [
       "DataFrame[avg_reps: double, classification_onehot: vector, breed_onehot: vector, barking_scaled: vector, coat_length_scaled: vector, drooling_scaled: vector, energy_scaled: vector, good_with_children_scaled: vector, good_with_other_dogs_scaled: vector, good_with_strangers_scaled: vector, grooming_scaled: vector, playfulness_scaled: vector, protectiveness_scaled: vector, shedding_scaled: vector, trainability_scaled: vector, avg_height_female_scaled: vector, avg_height_male_scaled: vector, avg_life_expectancy_scaled: vector, avg_weight_male_log_normalized_scaled: vector, avg_weight_female_log_normalized_scaled: vector, obey_scaled: vector, avg_reps_scaled: vector, breed_indexed_scaled: vector, classification_indexed_scaled: vector, features: vector, prediction: double]"
      ]
     },
     "execution_count": 47,
     "metadata": {},
     "output_type": "execute_result"
    }
   ],
   "source": [
    "predictions"
   ]
  }
 ],
 "metadata": {
  "kernelspec": {
   "display_name": "Python 3",
   "language": "python",
   "name": "python3"
  },
  "language_info": {
   "codemirror_mode": {
    "name": "ipython",
    "version": 3
   },
   "file_extension": ".py",
   "mimetype": "text/x-python",
   "name": "python",
   "nbconvert_exporter": "python",
   "pygments_lexer": "ipython3",
   "version": "3.10.12"
  }
 },
 "nbformat": 4,
 "nbformat_minor": 2
}
