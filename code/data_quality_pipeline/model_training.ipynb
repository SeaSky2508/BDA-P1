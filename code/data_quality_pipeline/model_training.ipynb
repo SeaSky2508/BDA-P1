{
 "cells": [
  {
   "cell_type": "markdown",
   "metadata": {},
   "source": [
    "# Bringing data to explotation zone for the training of a Linear Regression"
   ]
  },
  {
   "cell_type": "markdown",
   "metadata": {},
   "source": [
    "## Data Loading"
   ]
  },
  {
   "cell_type": "code",
   "execution_count": 1,
   "metadata": {},
   "outputs": [
    {
     "name": "stderr",
     "output_type": "stream",
     "text": [
      "24/04/25 21:18:50 WARN Utils: Your hostname, marcel-compu resolves to a loopback address: 127.0.1.1; using 192.168.1.47 instead (on interface wlp3s0)\n",
      "24/04/25 21:18:50 WARN Utils: Set SPARK_LOCAL_IP if you need to bind to another address\n",
      "24/04/25 21:18:50 WARN NativeCodeLoader: Unable to load native-hadoop library for your platform... using builtin-java classes where applicable\n",
      "Setting default log level to \"WARN\".\n",
      "To adjust logging level use sc.setLogLevel(newLevel). For SparkR, use setLogLevel(newLevel).\n"
     ]
    },
    {
     "name": "stdout",
     "output_type": "stream",
     "text": [
      "+-------+-----------+--------+------+------------------+--------------------+-------------------+--------+--------------------+-----------+--------------+--------+------------+-----------------+---------------+-------------------+------------------------------+--------------------------------+\n",
      "|barking|coat_length|drooling|energy|good_with_children|good_with_other_dogs|good_with_strangers|grooming|               breed|playfulness|protectiveness|shedding|trainability|avg_height_female|avg_height_male|avg_life_expectancy|avg_weight_male_log_normalized|avg_weight_female_log_normalized|\n",
      "+-------+-----------+--------+------+------------------+--------------------+-------------------+--------+--------------------+-----------+--------------+--------+------------+-----------------+---------------+-------------------+------------------------------+--------------------------------+\n",
      "|      1|          1|       0|     0|                 3|                   3|                  0|       0|    American Bulldog|          0|             0|       2|           4|             22.0|           24.0|               11.0|             4.483002552013883|              4.2626798770413155|\n",
      "|      1|          1|       1|     5|                 3|                   3|                  3|       1|Australian Cattle...|          3|             4|       3|           4|             19.0|           19.0|               14.0|            3.7727609380946383|              3.7727609380946383|\n",
      "|      1|          1|       1|     5|                 3|                   3|                  3|       1|   Australian Kelpie|          3|             4|       3|           4|             18.5|           18.5|               11.5|            3.7727609380946383|              3.7727609380946383|\n",
      "|      1|          1|       1|     5|                 3|                   1|                  1|       3|Australian Stumpy...|          3|             3|       3|           3|             19.0|           19.0|               13.5|            3.7495040759303713|              3.5409593240373143|\n",
      "|      1|          1|       1|     3|                 3|                   3|                  1|       2|             Azawakh|          3|             3|       2|           2|             27.0|           27.0|               13.5|            3.9219733362813143|               3.676300671907076|\n",
      "|      1|          1|       1|     4|                 3|                   3|                  3|       1|             Basenji|          3|             3|       2|           2|             17.0|           17.0|               13.5|            3.2188758248682006|              3.1354942159291497|\n",
      "|      1|          1|       2|     3|                 3|                   3|                  3|       1| Bergamasco Sheepdog|          3|             4|       1|           3|             23.5|           23.5|               14.0|             4.356708826689592|               4.174387269895637|\n",
      "|      1|          1|       2|     3|                 3|                   3|                  3|       4|              Briard|          3|             4|       1|           3|             25.0|           25.0|               12.0|             4.363098624788362|               4.363098624788362|\n",
      "|      1|          1|       3|     2|                 3|                   3|                  3|       1|           Broholmer|          3|             4|       3|           3|             28.5|           28.5|                9.0|             4.795790545596741|               4.795790545596741|\n",
      "|      1|          1|       3|     4|                 3|                   3|                  3|       1|         Bullmastiff|          3|             5|       3|           4|             26.0|           26.0|                8.0|             4.795790545596741|               4.709530201312334|\n",
      "|      1|          1|       2|     5|                 3|                   3|                  3|       2|Catahoula Leopard...|          3|             4|       3|           4|             23.0|           23.0|               12.0|             4.297285406218791|               4.297285406218791|\n",
      "|      1|          1|       3|     3|                 3|                   2|                  2|       3|           Chow Chow|          3|             5|       3|           3|             18.5|           18.5|               10.0|             4.069026754237811|               4.069026754237811|\n",
      "|      1|          1|       4|     3|                 3|                   3|                  4|       2|     Clumber Spaniel|          3|             3|       3|           4|             19.0|           19.0|               11.0|             4.363098624788362|               4.151039905898646|\n",
      "|      1|          1|       1|     3|                 5|                   5|                  5|       4|     Coton de Tulear|          4|             3|       2|           4|             10.5|           10.5|               17.0|            2.5649493574615367|              2.4423470353692043|\n",
      "|      1|          1|       3|     3|                 5|                   4|                  5|       1|      French Bulldog|          5|             3|       3|           4|             12.0|           12.0|               11.0|            3.2188758248682006|              3.1354942159291497|\n",
      "|      1|          1|       2|     3|                 5|                   5|                  5|       2|    Golden Retriever|          4|             3|       4|           5|             23.5|           23.5|               11.0|            4.2626798770413155|               4.110873864173311|\n",
      "|      1|          1|       2|     3|                 4|                   4|                  4|       2|            Hovawart|          4|             5|       3|           4|             25.5|           25.5|               12.0|             4.363098624788362|               4.363098624788362|\n",
      "|      1|          1|       2|     3|                 3|                   3|                  3|       3| Irish Water Spaniel|          5|             3|       1|           5|             23.0|           23.0|               12.5|             4.135166556742356|               3.960813169597578|\n",
      "|      1|          1|       2|     3|                 3|                   4|                  3|       2|     Irish Wolfhound|          3|             5|       3|           3|             33.0|           33.0|                7.0|             4.795790545596741|               4.663439094112067|\n",
      "|      1|          1|       1|     3|                 3|                   3|                  3|       1|         Jagdterrier|          4|             4|       2|           3|             14.5|           14.5|               11.0|            3.0204248861443626|              3.0204248861443626|\n",
      "+-------+-----------+--------+------+------------------+--------------------+-------------------+--------+--------------------+-----------+--------------+--------+------------+-----------------+---------------+-------------------+------------------------------+--------------------------------+\n",
      "only showing top 20 rows\n",
      "\n"
     ]
    }
   ],
   "source": [
    "from pyspark.sql import SparkSession\n",
    "from pyspark.conf import SparkConf\n",
    "from pyspark.sql.functions import UserDefinedFunction, col, mean, log1p, UserDefinedFunction, explode, rand, when, lit\n",
    "from pyspark.ml.stat import Correlation\n",
    "from pyspark.ml.feature import VectorAssembler, StringIndexer, OneHotEncoder, MinMaxScaler\n",
    "import matplotlib.pyplot as plt\n",
    "import pandas as pd\n",
    "from pyspark.ml import Pipeline\n",
    "from pyspark.sql.types import FloatType\n",
    "import os\n",
    "\n",
    "\"\"\"\n",
    "Spark session variables declaration and spark initialization\n",
    "\"\"\"\n",
    "\n",
    "path = os.getcwd()\n",
    "\n",
    "conf = SparkConf() \\\n",
    "    .setAppName(\"PostgreSQL Writing to Formatted Table\") \\\n",
    "    .set(\"spark.jars\", path+\"/../..\"+\"/driver/postgresql-42.7.3.jar\")\n",
    "\n",
    "spark = SparkSession.builder \\\n",
    "    .config(conf=conf) \\\n",
    "    .getOrCreate()\n",
    "\n",
    "\n",
    "\"\"\"\n",
    "Connection details for table from formatted zone read\n",
    "\"\"\"\n",
    "\n",
    "jdbc_url = \"jdbc:postgresql://localhost:5432/bda_project1_db\"\n",
    "driver_class = \"org.postgresql.Driver\"\n",
    "user = \"postgres\"\n",
    "password = \"hola123\"\n",
    "connectionProperties = {\"user\": \"postgres\", \"password\": \"hola123\"}\n",
    "\n",
    "\n",
    "df_caract = spark.read \\\n",
    "    .format(\"jdbc\") \\\n",
    "    .option(\"url\", \"jdbc:postgresql://localhost:5432/bda_project1_db\") \\\n",
    "    .option(\"dbtable\", \"dog_caract_trusted\") \\\n",
    "    .option(\"user\", connectionProperties[\"user\"]) \\\n",
    "    .option(\"password\", connectionProperties[\"password\"]) \\\n",
    "    .option(\"driver\", \"org.postgresql.Driver\") \\\n",
    "    .load()\n",
    "\n",
    "df_caract = df_caract.withColumnRenamed(\"Breed\", \"breed\")\n",
    "\n",
    "df_caract.show()"
   ]
  },
  {
   "cell_type": "code",
   "execution_count": 2,
   "metadata": {},
   "outputs": [
    {
     "name": "stdout",
     "output_type": "stream",
     "text": [
      "+--------------------+--------------------+----+--------+\n",
      "|               breed|      classification|obey|avg_reps|\n",
      "+--------------------+--------------------+----+--------+\n",
      "|       Border Collie|      Brightest Dogs|  95|     2.5|\n",
      "|              Poodle|      Brightest Dogs|  95|     2.5|\n",
      "|     German Shepherd|      Brightest Dogs|  95|     2.5|\n",
      "|    Golden Retriever|      Brightest Dogs|  95|     2.5|\n",
      "|   Doberman Pinscher|      Brightest Dogs|  95|     2.5|\n",
      "|   Shetland Sheepdog|      Brightest Dogs|  95|     2.5|\n",
      "|  Labrador Retriever|      Brightest Dogs|  95|     2.5|\n",
      "|            Papillon|      Brightest Dogs|  95|     2.5|\n",
      "|          Rottweiler|      Brightest Dogs|  95|     2.5|\n",
      "|Australian Cattle...|      Brightest Dogs|  95|     2.5|\n",
      "|Pembroke Welsh Corgi|Excellent Working...|  85|    10.0|\n",
      "| Miniature Schnauzer|Excellent Working...|  85|    10.0|\n",
      "|English Springer ...|Excellent Working...|  85|    10.0|\n",
      "|Belgian Shepherd ...|Excellent Working...|  85|    10.0|\n",
      "|          Schipperke|Excellent Working...|  85|    10.0|\n",
      "|    Belgian Sheepdog|Excellent Working...|  85|    10.0|\n",
      "|              Collie|Excellent Working...|  85|    10.0|\n",
      "|            Keeshond|Excellent Working...|  85|    10.0|\n",
      "|German Shorthaire...|Excellent Working...|  85|    10.0|\n",
      "|Flat-Coated Retri...|Excellent Working...|  85|    10.0|\n",
      "+--------------------+--------------------+----+--------+\n",
      "only showing top 20 rows\n",
      "\n"
     ]
    }
   ],
   "source": [
    "df_intel = spark.read \\\n",
    "    .format(\"jdbc\") \\\n",
    "    .option(\"url\", \"jdbc:postgresql://localhost:5432/bda_project1_db\") \\\n",
    "    .option(\"dbtable\", \"dog_intelligence_trusted\") \\\n",
    "    .option(\"user\", connectionProperties[\"user\"]) \\\n",
    "    .option(\"password\", connectionProperties[\"password\"]) \\\n",
    "    .option(\"driver\", \"org.postgresql.Driver\") \\\n",
    "    .load()\n",
    "\n",
    "df_intel.show()"
   ]
  },
  {
   "cell_type": "markdown",
   "metadata": {},
   "source": [
    "## Table Join"
   ]
  },
  {
   "cell_type": "code",
   "execution_count": 3,
   "metadata": {},
   "outputs": [
    {
     "name": "stdout",
     "output_type": "stream",
     "text": [
      "112\n",
      "+-------+-----------+--------+------+------------------+--------------------+-------------------+--------+--------------------+-----------+--------------+--------+------------+-----------------+---------------+-------------------+------------------------------+--------------------------------+--------------------+----+--------+\n",
      "|barking|coat_length|drooling|energy|good_with_children|good_with_other_dogs|good_with_strangers|grooming|               breed|playfulness|protectiveness|shedding|trainability|avg_height_female|avg_height_male|avg_life_expectancy|avg_weight_male_log_normalized|avg_weight_female_log_normalized|      classification|obey|avg_reps|\n",
      "+-------+-----------+--------+------+------------------+--------------------+-------------------+--------+--------------------+-----------+--------------+--------+------------+-----------------+---------------+-------------------+------------------------------+--------------------------------+--------------------+----+--------+\n",
      "|      1|          1|       2|     3|                 3|                   3|                  3|       4|              Briard|          3|             4|       1|           3|             25.0|           25.0|               12.0|             4.363098624788362|               4.363098624788362|Above Average Wor...|  70|    20.5|\n",
      "|      3|          1|       2|     5|                 5|                   3|                  4|       1|   Doberman Pinscher|          4|             5|       4|           5|             27.0|           27.0|               11.0|             4.483002552013883|               4.330733340286331|      Brightest Dogs|  95|     2.5|\n",
      "|      3|          1|       1|     3|                 3|                   3|                  3|       4|             Maltese|          3|             4|       1|           3|              8.0|            8.0|               13.5|            2.1633230256605382|              2.1633230256605382|Fair Working/Obed...|  30|    60.5|\n",
      "|      3|          1|       3|     3|                 5|                   3|                  3|       4|Old English Sheepdog|          4|             4|       3|           4|             23.0|           21.0|               11.0|             4.394449154672439|               4.394449154672439|Fair Working/Obed...|  30|    60.5|\n",
      "|      2|          1|       1|     4|                 5|                   4|                  5|       2|      Boston Terrier|          5|             3|       2|           4|             16.0|           16.0|               12.0|             2.970414465569701|               2.970414465569701|Average Working/O...|  50|    33.0|\n",
      "|      3|          1|       3|     4|                 5|                   3|                  4|       2|Staffordshire Bul...|          4|             5|       2|           5|             15.0|           15.0|               13.0|            3.5263605246161616|              3.4011973816621555|Average Working/O...|  50|    33.0|\n",
      "|      3|          1|       2|     5|                 5|                   4|                  4|       4|Portuguese Water Dog|          5|             4|       2|           5|             21.5|           21.5|               12.0|            3.9512437185814275|              3.7727609380946383|Above Average Wor...|  70|    20.5|\n",
      "|      4|          1|       1|     3|                 3|                   3|                  4|       3|    Sealyham Terrier|          3|             5|       3|           4|             10.5|           10.5|               13.0|            3.1986731175506815|               3.091042453358316|Fair Working/Obed...|  30|    60.5|\n",
      "|      3|          1|       2|     3|                 3|                   3|                  3|       2|              Kuvasz|          3|             5|       3|           5|             29.0|           29.0|               11.0|             4.686750172980514|               4.394449154672439|Average Working/O...|  50|    33.0|\n",
      "|      5|          1|       1|     4|                 5|                   5|                  4|       4|      Bearded Collie|          4|             3|       3|           3|             21.5|           21.5|               13.0|            3.9318256327243257|              3.9318256327243257|Above Average Wor...|  70|    20.5|\n",
      "|      3|          1|       1|     3|                 5|                   1|                  3|       1|       Irish Terrier|          3|             5|       2|           3|             18.0|           18.0|               14.0|             3.332204510175204|               3.258096538021482|Average Working/O...|  50|    33.0|\n",
      "|      3|          1|       2|     5|                 5|                   5|                  5|       2|  Labrador Retriever|          5|             3|       4|           5|             23.5|           23.5|               11.0|             4.297285406218791|               4.151039905898646|      Brightest Dogs|  95|     2.5|\n",
      "|      4|          1|       2|     4|                 5|                   5|                  5|       3|            Keeshond|          5|             5|       3|           5|             18.0|           18.0|               13.5|             3.713572066704308|               3.713572066704308|Excellent Working...|  85|    10.0|\n",
      "|      3|          1|       3|     5|                 5|                   3|                  5|       2|Wirehaired Pointi...|          4|             3|       3|           5|             23.0|           23.0|               13.5|             4.110873864173311|              3.7727609380946383|Average Working/O...|  50|    33.0|\n",
      "|      1|          1|       3|     3|                 5|                   4|                  5|       1|      French Bulldog|          5|             3|       3|           4|             12.0|           12.0|               11.0|            3.2188758248682006|              3.1354942159291497|Fair Working/Obed...|  30|    60.5|\n",
      "|      4|          1|       2|     3|                 3|                   2|                  3|       3|    Scottish Terrier|          4|             5|       2|           3|             10.0|           10.0|               12.0|             3.068052935133617|              3.0204248861443626|Fair Working/Obed...|  30|    60.5|\n",
      "|      5|          1|       1|     4|                 5|                   5|                  3|       1|   American Foxhound|          3|             3|       3|           3|             23.5|           23.5|               12.0|              4.22683374526818|               4.151039905898646|Average Working/O...|  50|    33.0|\n",
      "|      3|          1|       1|     4|                 3|                   3|                  3|       3|  Bedlington Terrier|          3|             4|       1|           3|            16.25|          16.25|               13.5|             3.044522437723423|               3.044522437723423|Average Working/O...|  50|    33.0|\n",
      "|      3|          1|       3|     4|                 3|                   4|                  4|       2|English Springer ...|          4|             3|       3|           5|             20.0|           20.0|               13.0|            3.9318256327243257|               3.713572066704308|Excellent Working...|  85|    10.0|\n",
      "|      3|          2|       1|     3|                 3|                   3|                  3|       3|    Airedale Terrier|          3|             5|       1|           3|             23.0|           23.0|               12.5|             4.110873864173311|               4.110873864173311|Above Average Wor...|  70|    20.5|\n",
      "+-------+-----------+--------+------+------------------+--------------------+-------------------+--------+--------------------+-----------+--------------+--------+------------+-----------------+---------------+-------------------+------------------------------+--------------------------------+--------------------+----+--------+\n",
      "only showing top 20 rows\n",
      "\n"
     ]
    }
   ],
   "source": [
    "df = df_caract.join(df_intel, \n",
    "               df_caract.breed == df_intel.breed, \n",
    "               \"inner\").drop(df_intel.breed) # Drop allows to remove duplicates\n",
    "df = df.distinct()\n",
    "print(df.count())\n",
    "df.show()"
   ]
  },
  {
   "cell_type": "markdown",
   "metadata": {},
   "source": [
    "## Categorical Variables"
   ]
  },
  {
   "cell_type": "code",
   "execution_count": 4,
   "metadata": {},
   "outputs": [],
   "source": [
    "#df = df.drop(\"breed\")"
   ]
  },
  {
   "cell_type": "code",
   "execution_count": 5,
   "metadata": {},
   "outputs": [
    {
     "data": {
      "text/plain": [
       "'string_indexer = StringIndexer(inputCol=\"breed\", outputCol=\"breed_encoded\")\\n\\npipeline = Pipeline(stages=[string_indexer])\\n\\ndf = pipeline.fit(df).transform(df)\\n\\ndf = df.drop(\\'breed\\')'"
      ]
     },
     "execution_count": 5,
     "metadata": {},
     "output_type": "execute_result"
    }
   ],
   "source": [
    "\"\"\"string_indexer = StringIndexer(inputCol=\"breed\", outputCol=\"breed_encoded\")\n",
    "\n",
    "pipeline = Pipeline(stages=[string_indexer])\n",
    "\n",
    "df = pipeline.fit(df).transform(df)\n",
    "\n",
    "df = df.drop('breed')\"\"\""
   ]
  },
  {
   "cell_type": "code",
   "execution_count": 4,
   "metadata": {},
   "outputs": [
    {
     "name": "stderr",
     "output_type": "stream",
     "text": [
      "[Stage 22:>                                                         (0 + 1) / 1]\r"
     ]
    },
    {
     "name": "stdout",
     "output_type": "stream",
     "text": [
      "Classification variable has 5 modalities\n"
     ]
    },
    {
     "name": "stderr",
     "output_type": "stream",
     "text": [
      "                                                                                \r"
     ]
    }
   ],
   "source": [
    "print(\"Classification variable has\",len(set(df.rdd.map(lambda r: r.classification).collect())),\"modalities\")"
   ]
  },
  {
   "cell_type": "code",
   "execution_count": 5,
   "metadata": {},
   "outputs": [
    {
     "name": "stderr",
     "output_type": "stream",
     "text": [
      "24/04/25 21:20:19 WARN SparkStringUtils: Truncated the string representation of a plan since it was too large. This behavior can be adjusted by setting 'spark.sql.debug.maxToStringFields'.\n"
     ]
    },
    {
     "name": "stdout",
     "output_type": "stream",
     "text": [
      "112\n",
      "+-------+-----------+--------+------+------------------+--------------------+-------------------+--------+-----------+--------------+--------+------------+-----------------+---------------+-------------------+------------------------------+--------------------------------+--------------------+----+--------+--------------------+--------------------------+--------------------------------------+--------------+----------------------+-----------------------------------+\n",
      "|barking|coat_length|drooling|energy|good_with_children|good_with_other_dogs|good_with_strangers|grooming|playfulness|protectiveness|shedding|trainability|avg_height_female|avg_height_male|avg_life_expectancy|avg_weight_male_log_normalized|avg_weight_female_log_normalized|      classification|obey|avg_reps|               breed|Above Average Working Dogs|Average Working/Obedience Intelligence|Brightest Dogs|Excellent Working Dogs|Fair Working/Obedience Intelligence|\n",
      "+-------+-----------+--------+------+------------------+--------------------+-------------------+--------+-----------+--------------+--------+------------+-----------------+---------------+-------------------+------------------------------+--------------------------------+--------------------+----+--------+--------------------+--------------------------+--------------------------------------+--------------+----------------------+-----------------------------------+\n",
      "|      3|          2|       1|     3|                 3|                   3|                  5|       3|          3|             3|       3|           3|            10.25|          10.25|               13.5|            2.2512917986064953|              2.2512917986064953|Above Average Wor...|  70|    20.5|       Affenpinscher|                         1|                                     0|             0|                     0|                                  0|\n",
      "|      3|          2|       1|     3|                 3|                   3|                  3|       3|          3|             5|       1|           3|             23.0|           23.0|               12.5|             4.110873864173311|               4.110873864173311|Above Average Wor...|  70|    20.5|    Airedale Terrier|                         1|                                     0|             0|                     0|                                  0|\n",
      "|      2|          1|       1|     4|                 3|                   1|                  2|       3|          3|             5|       3|           3|             27.0|           27.0|               12.0|            4.7535901911063645|               4.454347296253507|Average Working/O...|  50|    33.0|               Akita|                         0|                                     1|             0|                     0|                                  0|\n",
      "|      3|          1|       1|     4|                 3|                   3|                  3|       3|          3|             4|       3|           5|             25.0|           25.0|               12.0|             4.454347296253507|               4.330733340286331|Average Working/O...|  50|    33.0|    Alaskan Malamute|                         0|                                     1|             0|                     0|                                  0|\n",
      "|      5|          1|       1|     4|                 5|                   5|                  3|       1|          3|             3|       3|           3|             23.5|           23.5|               12.0|              4.22683374526818|               4.151039905898646|Average Working/O...|  50|    33.0|   American Foxhound|                         0|                                     1|             0|                     0|                                  0|\n",
      "|      3|          1|       1|     3|                 3|                   3|                  4|       1|          3|             5|       2|           3|             18.5|           18.5|               14.0|             4.151039905898646|              3.8815637979434374|Above Average Wor...|  70|    20.5|American Stafford...|                         1|                                     0|             0|                     0|                                  0|\n",
      "|      3|          1|       1|     3|                 3|                   3|                  3|       3|          3|             3|       1|           5|             16.5|           16.5|               12.0|            3.6506582412937387|              3.5115454388310208|Average Working/O...|  50|    33.0|American Water Sp...|                         0|                                     1|             0|                     0|                                  0|\n",
      "|      1|          1|       1|     5|                 3|                   3|                  3|       1|          3|             4|       3|           4|             19.0|           19.0|               14.0|            3.7727609380946383|              3.7727609380946383|      Brightest Dogs|  95|     2.5|Australian Cattle...|                         0|                                     0|             1|                     0|                                  0|\n",
      "|      3|          1|       1|     5|                 5|                   3|                  3|       2|          4|             3|       3|           5|             21.5|           21.5|               13.5|             4.069026754237811|              3.8815637979434374|Average Working/O...|  50|    33.0| Australian Shepherd|                         0|                                     1|             0|                     0|                                  0|\n",
      "|      5|          1|       1|     4|                 5|                   3|                  3|       2|          4|             4|       1|           4|             10.5|           10.5|               13.0|             2.917770732084279|               2.917770732084279|Above Average Wor...|  70|    20.5|  Australian Terrier|                         1|                                     0|             0|                     0|                                  0|\n",
      "|      5|          1|       1|     4|                 5|                   5|                  4|       4|          4|             3|       3|           3|             21.5|           21.5|               13.0|            3.9318256327243257|              3.9318256327243257|Above Average Wor...|  70|    20.5|      Bearded Collie|                         1|                                     0|             0|                     0|                                  0|\n",
      "|      3|          1|       1|     4|                 3|                   3|                  3|       3|          3|             4|       1|           3|            16.25|          16.25|               13.5|             3.044522437723423|               3.044522437723423|Average Working/O...|  50|    33.0|  Bedlington Terrier|                         0|                                     1|             0|                     0|                                  0|\n",
      "|      3|          1|       1|     4|                 3|                   3|                  3|       2|          3|             4|       3|           5|             25.0|           25.0|               15.0|            4.2626798770413155|              3.9318256327243257|Excellent Working...|  85|    10.0|    Belgian Malinois|                         0|                                     0|             0|                     1|                                  0|\n",
      "|      3|          1|       1|     4|                 3|                   3|                  3|       2|          3|             4|       3|           5|             25.0|           25.0|               13.0|             4.189654742026425|               3.979681653901961|Excellent Working...|  85|    10.0|    Belgian Sheepdog|                         0|                                     0|             0|                     1|                                  0|\n",
      "|      3|          1|       3|     4|                 5|                   5|                  4|       3|          4|             3|       5|           4|            26.25|          26.25|                8.5|             4.590056548178043|                4.42484663185681|Excellent Working...|  85|    10.0|Bernese Mountain Dog|                         0|                                     0|             0|                     1|                                  0|\n",
      "|      3|          1|       1|     4|                 5|                   5|                  5|       5|          4|             2|       1|           4|             10.5|           10.5|               14.5|             2.772588722239781|               2.772588722239781|Average Working/O...|  50|    33.0|        Bichon Frise|                         0|                                     1|             0|                     0|                                  0|\n",
      "|      4|          1|       3|     3|                 5|                   5|                  3|       2|          3|             2|       3|           3|             26.0|           26.0|               11.0|             4.483002552013883|               4.483002552013883|Average Working/O...|  50|    33.0|Black and Tan Coo...|                         0|                                     1|             0|                     0|                                  0|\n",
      "|      4|          1|       1|     5|                 3|                   3|                  4|       3|          5|             3|       3|           5|             20.5|           20.5|               13.5|            3.7727609380946383|              3.7727609380946383|      Brightest Dogs|  95|     2.5|       Border Collie|                         0|                                     0|             1|                     0|                                  0|\n",
      "|      3|          1|       1|     3|                 5|                   3|                  4|       2|          4|             3|       2|           4|             13.5|           13.5|               13.5|            2.7245795030534206|              2.6210388241125804|Above Average Wor...|  70|    20.5|      Border Terrier|                         1|                                     0|             0|                     0|                                  0|\n",
      "|      2|          1|       1|     4|                 5|                   4|                  5|       2|          5|             3|       2|           4|             16.0|           16.0|               12.0|             2.970414465569701|               2.970414465569701|Average Working/O...|  50|    33.0|      Boston Terrier|                         0|                                     1|             0|                     0|                                  0|\n",
      "+-------+-----------+--------+------+------------------+--------------------+-------------------+--------+-----------+--------------+--------+------------+-----------------+---------------+-------------------+------------------------------+--------------------------------+--------------------+----+--------+--------------------+--------------------------+--------------------------------------+--------------+----------------------+-----------------------------------+\n",
      "only showing top 20 rows\n",
      "\n"
     ]
    }
   ],
   "source": [
    "pivoted = df.groupBy(\"breed\").pivot(\"classification\").agg(lit(1))\n",
    "pivoted = pivoted.na.fill(0)\n",
    "df = df.join(pivoted, \n",
    "               df.breed == pivoted.breed, \n",
    "               \"inner\").drop(pivoted.breed) # Drop allows to remove duplicates\n",
    "df = df.distinct()\n",
    "print(df.count())\n",
    "df.show()"
   ]
  },
  {
   "cell_type": "markdown",
   "metadata": {},
   "source": [
    "## Numerical Variables"
   ]
  },
  {
   "cell_type": "code",
   "execution_count": 6,
   "metadata": {},
   "outputs": [
    {
     "name": "stdout",
     "output_type": "stream",
     "text": [
      "+-------+-----------+--------+------+------------------+--------------------+-------------------+--------+-----------+--------------+--------+------------+-----------------+---------------+-------------------+------------------------------+--------------------------------+--------------------+----+--------+--------------------------+--------------------------------------+--------------+----------------------+-----------------------------------+-----------+---------------+------------+----------+----------------------+------------------------+-----------------------+------------+---------------+------------------+------------+----------------+---------------------+-------------------+-----------------------+----------------------------------+------------------------------------+--------+------------------------------+------------------------------------------+------------------+--------------------------+---------------------------------------+--------------+------------------+---------------+-------------+-------------------------+---------------------------+--------------------------+---------------+------------------+---------------------+---------------+--------------------+------------------------+----------------------+--------------------------+-------------------------------------+---------------------------------------+--------------------+---------------------------------+---------------------------------------------+---------------------+-----------------------------+------------------------------------------+\n",
      "|barking|coat_length|drooling|energy|good_with_children|good_with_other_dogs|good_with_strangers|grooming|playfulness|protectiveness|shedding|trainability|avg_height_female|avg_height_male|avg_life_expectancy|avg_weight_male_log_normalized|avg_weight_female_log_normalized|      classification|obey|avg_reps|Above Average Working Dogs|Average Working/Obedience Intelligence|Brightest Dogs|Excellent Working Dogs|Fair Working/Obedience Intelligence|barking_vec|coat_length_vec|drooling_vec|energy_vec|good_with_children_vec|good_with_other_dogs_vec|good_with_strangers_vec|grooming_vec|playfulness_vec|protectiveness_vec|shedding_vec|trainability_vec|avg_height_female_vec|avg_height_male_vec|avg_life_expectancy_vec|avg_weight_male_log_normalized_vec|avg_weight_female_log_normalized_vec|obey_vec|Above Average Working Dogs_vec|Average Working/Obedience Intelligence_vec|Brightest Dogs_vec|Excellent Working Dogs_vec|Fair Working/Obedience Intelligence_vec|barking_scaled|coat_length_scaled|drooling_scaled|energy_scaled|good_with_children_scaled|good_with_other_dogs_scaled|good_with_strangers_scaled|grooming_scaled|playfulness_scaled|protectiveness_scaled|shedding_scaled| trainability_scaled|avg_height_female_scaled|avg_height_male_scaled|avg_life_expectancy_scaled|avg_weight_male_log_normalized_scaled|avg_weight_female_log_normalized_scaled|         obey_scaled|Above Average Working Dogs_scaled|Average Working/Obedience Intelligence_scaled|Brightest Dogs_scaled|Excellent Working Dogs_scaled|Fair Working/Obedience Intelligence_scaled|\n",
      "+-------+-----------+--------+------+------------------+--------------------+-------------------+--------+-----------+--------------+--------+------------+-----------------+---------------+-------------------+------------------------------+--------------------------------+--------------------+----+--------+--------------------------+--------------------------------------+--------------+----------------------+-----------------------------------+-----------+---------------+------------+----------+----------------------+------------------------+-----------------------+------------+---------------+------------------+------------+----------------+---------------------+-------------------+-----------------------+----------------------------------+------------------------------------+--------+------------------------------+------------------------------------------+------------------+--------------------------+---------------------------------------+--------------+------------------+---------------+-------------+-------------------------+---------------------------+--------------------------+---------------+------------------+---------------------+---------------+--------------------+------------------------+----------------------+--------------------------+-------------------------------------+---------------------------------------+--------------------+---------------------------------+---------------------------------------------+---------------------+-----------------------------+------------------------------------------+\n",
      "|      3|          2|       1|     3|                 3|                   3|                  5|       3|          3|             3|       3|           3|            10.25|          10.25|               13.5|            2.2512917986064953|              2.2512917986064953|Above Average Wor...|  70|    20.5|                         1|                                     0|             0|                     0|                                  0|      [3.0]|          [2.0]|       [1.0]|     [3.0]|                 [3.0]|                   [3.0]|                  [5.0]|       [3.0]|          [3.0]|             [3.0]|       [3.0]|           [3.0]|              [10.25]|            [10.25]|                 [13.5]|              [2.2512917986064953]|                [2.2512917986064953]|  [70.0]|                         [1.0]|                                     [0.0]|             [0.0]|                     [0.0]|                                  [0.0]|         [0.5]|             [1.0]|          [0.0]|        [0.0]|                    [0.5]|                      [0.5]|                     [1.0]|          [0.5]|             [0.0]|                [0.5]|          [0.5]|[0.3333333333333333]|    [0.14150943396226...|  [0.14150943396226...|      [0.7647058823529411]|                 [0.13969055747361...|                   [0.14903246024119...|[0.6153846153846154]|                            [1.0]|                                        [0.0]|                [0.0]|                        [0.0]|                                     [0.0]|\n",
      "|      3|          2|       1|     3|                 3|                   3|                  3|       3|          3|             5|       1|           3|             23.0|           23.0|               12.5|             4.110873864173311|               4.110873864173311|Above Average Wor...|  70|    20.5|                         1|                                     0|             0|                     0|                                  0|      [3.0]|          [2.0]|       [1.0]|     [3.0]|                 [3.0]|                   [3.0]|                  [3.0]|       [3.0]|          [3.0]|             [5.0]|       [1.0]|           [3.0]|               [23.0]|             [23.0]|                 [12.5]|               [4.110873864173311]|                 [4.110873864173311]|  [70.0]|                         [1.0]|                                     [0.0]|             [0.0]|                     [0.0]|                                  [0.0]|         [0.5]|             [1.0]|          [0.0]|        [0.0]|                    [0.5]|                      [0.5]|                     [0.5]|          [0.5]|             [0.0]|                [1.0]|          [0.0]|[0.3333333333333333]|    [0.6226415094339622]|  [0.6226415094339622]|      [0.6470588235294118]|                 [0.7049740833537622]|                   [0.7521197133767469]|[0.6153846153846154]|                            [1.0]|                                        [0.0]|                [0.0]|                        [0.0]|                                     [0.0]|\n",
      "|      2|          1|       1|     4|                 3|                   1|                  2|       3|          3|             5|       3|           3|             27.0|           27.0|               12.0|            4.7535901911063645|               4.454347296253507|Average Working/O...|  50|    33.0|                         0|                                     1|             0|                     0|                                  0|      [2.0]|          [1.0]|       [1.0]|     [4.0]|                 [3.0]|                   [1.0]|                  [2.0]|       [3.0]|          [3.0]|             [5.0]|       [3.0]|           [3.0]|               [27.0]|             [27.0]|                 [12.0]|              [4.7535901911063645]|                 [4.454347296253507]|  [50.0]|                         [0.0]|                                     [1.0]|             [0.0]|                     [0.0]|                                  [0.0]|        [0.25]|             [0.0]|          [0.0]|        [0.5]|                    [0.5]|                      [0.0]|                    [0.25]|          [0.5]|             [0.0]|                [1.0]|          [0.5]|[0.3333333333333333]|    [0.7735849056603773]|  [0.7735849056603773]|      [0.5882352941176471]|                 [0.9003496777719159]|                   [0.8635127260939063]|[0.3076923076923077]|                            [0.0]|                                        [1.0]|                [0.0]|                        [0.0]|                                     [0.0]|\n",
      "|      3|          1|       1|     4|                 3|                   3|                  3|       3|          3|             4|       3|           5|             25.0|           25.0|               12.0|             4.454347296253507|               4.330733340286331|Average Working/O...|  50|    33.0|                         0|                                     1|             0|                     0|                                  0|      [3.0]|          [1.0]|       [1.0]|     [4.0]|                 [3.0]|                   [3.0]|                  [3.0]|       [3.0]|          [3.0]|             [4.0]|       [3.0]|           [5.0]|               [25.0]|             [25.0]|                 [12.0]|               [4.454347296253507]|                 [4.330733340286331]|  [50.0]|                         [0.0]|                                     [1.0]|             [0.0]|                     [0.0]|                                  [0.0]|         [0.5]|             [0.0]|          [0.0]|        [0.5]|                    [0.5]|                      [0.5]|                     [0.5]|          [0.5]|             [0.0]|               [0.75]|          [0.5]|               [1.0]|    [0.6981132075471698]|  [0.6981132075471698]|      [0.5882352941176471]|                 [0.8093845723166504]|                   [0.8234230723303656]|[0.3076923076923077]|                            [0.0]|                                        [1.0]|                [0.0]|                        [0.0]|                                     [0.0]|\n",
      "|      5|          1|       1|     4|                 5|                   5|                  3|       1|          3|             3|       3|           3|             23.5|           23.5|               12.0|              4.22683374526818|               4.151039905898646|Average Working/O...|  50|    33.0|                         0|                                     1|             0|                     0|                                  0|      [5.0]|          [1.0]|       [1.0]|     [4.0]|                 [5.0]|                   [5.0]|                  [3.0]|       [1.0]|          [3.0]|             [3.0]|       [3.0]|           [3.0]|               [23.5]|             [23.5]|                 [12.0]|                [4.22683374526818]|                 [4.151039905898646]|  [50.0]|                         [0.0]|                                     [1.0]|             [0.0]|                     [0.0]|                                  [0.0]|         [1.0]|             [0.0]|          [0.0]|        [0.5]|                    [1.0]|                      [1.0]|                     [0.5]|          [0.0]|             [0.0]|                [0.5]|          [0.5]|[0.3333333333333333]|    [0.6415094339622641]|  [0.6415094339622641]|      [0.5882352941176471]|                 [0.7402240525052821]|                   [0.7651460961441438]|[0.3076923076923077]|                            [0.0]|                                        [1.0]|                [0.0]|                        [0.0]|                                     [0.0]|\n",
      "|      3|          1|       1|     3|                 3|                   3|                  4|       1|          3|             5|       2|           3|             18.5|           18.5|               14.0|             4.151039905898646|              3.8815637979434374|Above Average Wor...|  70|    20.5|                         1|                                     0|             0|                     0|                                  0|      [3.0]|          [1.0]|       [1.0]|     [3.0]|                 [3.0]|                   [3.0]|                  [4.0]|       [1.0]|          [3.0]|             [5.0]|       [2.0]|           [3.0]|               [18.5]|             [18.5]|                 [14.0]|               [4.151039905898646]|                [3.8815637979434374]|  [70.0]|                         [1.0]|                                     [0.0]|             [0.0]|                     [0.0]|                                  [0.0]|         [0.5]|             [0.0]|          [0.0]|        [0.0]|                    [0.5]|                      [0.5]|                    [0.75]|          [0.0]|             [0.0]|                [1.0]|         [0.25]|[0.3333333333333333]|    [0.4528301886792453]|  [0.4528301886792453]|      [0.8235294117647058]|                 [0.7171839245366656]|                   [0.6777514020665638]|[0.6153846153846154]|                            [1.0]|                                        [0.0]|                [0.0]|                        [0.0]|                                     [0.0]|\n",
      "|      3|          1|       1|     3|                 3|                   3|                  3|       3|          3|             3|       1|           5|             16.5|           16.5|               12.0|            3.6506582412937387|              3.5115454388310208|Average Working/O...|  50|    33.0|                         0|                                     1|             0|                     0|                                  0|      [3.0]|          [1.0]|       [1.0]|     [3.0]|                 [3.0]|                   [3.0]|                  [3.0]|       [3.0]|          [3.0]|             [3.0]|       [1.0]|           [5.0]|               [16.5]|             [16.5]|                 [12.0]|              [3.6506582412937387]|                [3.5115454388310208]|  [50.0]|                         [0.0]|                                     [1.0]|             [0.0]|                     [0.0]|                                  [0.0]|         [0.5]|             [0.0]|          [0.0]|        [0.0]|                    [0.5]|                      [0.5]|                     [0.5]|          [0.5]|             [0.0]|                [0.5]|          [0.0]|               [1.0]|    [0.3773584905660377]|  [0.3773584905660377]|      [0.5882352941176471]|                 [0.5650758154667803]|                    [0.557749515654085]|[0.3076923076923077]|                            [0.0]|                                        [1.0]|                [0.0]|                        [0.0]|                                     [0.0]|\n",
      "|      1|          1|       1|     5|                 3|                   3|                  3|       1|          3|             4|       3|           4|             19.0|           19.0|               14.0|            3.7727609380946383|              3.7727609380946383|      Brightest Dogs|  95|     2.5|                         0|                                     0|             1|                     0|                                  0|      [1.0]|          [1.0]|       [1.0]|     [5.0]|                 [3.0]|                   [3.0]|                  [3.0]|       [1.0]|          [3.0]|             [4.0]|       [3.0]|           [4.0]|               [19.0]|             [19.0]|                 [14.0]|              [3.7727609380946383]|                [3.7727609380946383]|  [95.0]|                         [0.0]|                                     [0.0]|             [1.0]|                     [0.0]|                                  [0.0]|         [0.0]|             [0.0]|          [0.0]|        [1.0]|                    [0.5]|                      [0.5]|                     [0.5]|          [0.0]|             [0.0]|               [0.75]|          [0.5]|[0.6666666666666666]|    [0.4716981132075472]|  [0.4716981132075472]|      [0.8235294117647058]|                 [0.6021931034021469]|                   [0.6424651842144337]|               [1.0]|                            [0.0]|                                        [0.0]|                [1.0]|                        [0.0]|                                     [0.0]|\n",
      "|      3|          1|       1|     5|                 5|                   3|                  3|       2|          4|             3|       3|           5|             21.5|           21.5|               13.5|             4.069026754237811|              3.8815637979434374|Average Working/O...|  50|    33.0|                         0|                                     1|             0|                     0|                                  0|      [3.0]|          [1.0]|       [1.0]|     [5.0]|                 [5.0]|                   [3.0]|                  [3.0]|       [2.0]|          [4.0]|             [3.0]|       [3.0]|           [5.0]|               [21.5]|             [21.5]|                 [13.5]|               [4.069026754237811]|                [3.8815637979434374]|  [50.0]|                         [0.0]|                                     [1.0]|             [0.0]|                     [0.0]|                                  [0.0]|         [0.5]|             [0.0]|          [0.0]|        [1.0]|                    [1.0]|                      [0.5]|                     [0.5]|         [0.25]|             [0.5]|                [0.5]|          [0.5]|               [1.0]|    [0.5660377358490566]|  [0.5660377358490566]|      [0.7647058823529411]|                 [0.6922532240325988]|                   [0.6777514020665638]|[0.3076923076923077]|                            [0.0]|                                        [1.0]|                [0.0]|                        [0.0]|                                     [0.0]|\n",
      "|      5|          1|       1|     4|                 5|                   3|                  3|       2|          4|             4|       1|           4|             10.5|           10.5|               13.0|             2.917770732084279|               2.917770732084279|Above Average Wor...|  70|    20.5|                         1|                                     0|             0|                     0|                                  0|      [5.0]|          [1.0]|       [1.0]|     [4.0]|                 [5.0]|                   [3.0]|                  [3.0]|       [2.0]|          [4.0]|             [4.0]|       [1.0]|           [4.0]|               [10.5]|             [10.5]|                 [13.0]|               [2.917770732084279]|                 [2.917770732084279]|  [70.0]|                         [1.0]|                                     [0.0]|             [0.0]|                     [0.0]|                                  [0.0]|         [1.0]|             [0.0]|          [0.0]|        [0.5]|                    [1.0]|                      [0.5]|                     [0.5]|         [0.25]|             [0.5]|               [0.75]|          [0.0]|[0.6666666666666666]|    [0.1509433962264151]|  [0.1509433962264151]|      [0.7058823529411764]|                 [0.34228960831266...|                   [0.3651804629061445]|[0.6153846153846154]|                            [1.0]|                                        [0.0]|                [0.0]|                        [0.0]|                                     [0.0]|\n",
      "|      5|          1|       1|     4|                 5|                   5|                  4|       4|          4|             3|       3|           3|             21.5|           21.5|               13.0|            3.9318256327243257|              3.9318256327243257|Above Average Wor...|  70|    20.5|                         1|                                     0|             0|                     0|                                  0|      [5.0]|          [1.0]|       [1.0]|     [4.0]|                 [5.0]|                   [5.0]|                  [4.0]|       [4.0]|          [4.0]|             [3.0]|       [3.0]|           [3.0]|               [21.5]|             [21.5]|                 [13.0]|              [3.9318256327243257]|                [3.9318256327243257]|  [70.0]|                         [1.0]|                                     [0.0]|             [0.0]|                     [0.0]|                                  [0.0]|         [1.0]|             [0.0]|          [0.0]|        [0.5]|                    [1.0]|                      [1.0]|                    [0.75]|         [0.75]|             [0.5]|                [0.5]|          [0.5]|[0.3333333333333333]|    [0.5660377358490566]|  [0.5660377358490566]|      [0.7058823529411764]|                 [0.6505462538698094]|                   [0.6940519851044624]|[0.6153846153846154]|                            [1.0]|                                        [0.0]|                [0.0]|                        [0.0]|                                     [0.0]|\n",
      "|      3|          1|       1|     4|                 3|                   3|                  3|       3|          3|             4|       1|           3|            16.25|          16.25|               13.5|             3.044522437723423|               3.044522437723423|Average Working/O...|  50|    33.0|                         0|                                     1|             0|                     0|                                  0|      [3.0]|          [1.0]|       [1.0]|     [4.0]|                 [3.0]|                   [3.0]|                  [3.0]|       [3.0]|          [3.0]|             [4.0]|       [1.0]|           [3.0]|              [16.25]|            [16.25]|                 [13.5]|               [3.044522437723423]|                 [3.044522437723423]|  [50.0]|                         [0.0]|                                     [1.0]|             [0.0]|                     [0.0]|                                  [0.0]|         [0.5]|             [0.0]|          [0.0]|        [0.5]|                    [0.5]|                      [0.5]|                     [0.5]|          [0.5]|             [0.0]|               [0.75]|          [0.0]|[0.3333333333333333]|    [0.36792452830188...|  [0.36792452830188...|      [0.7647058823529411]|                 [0.38082012137887...|                   [0.40628773071626...|[0.3076923076923077]|                            [0.0]|                                        [1.0]|                [0.0]|                        [0.0]|                                     [0.0]|\n",
      "|      3|          1|       1|     4|                 3|                   3|                  3|       2|          3|             4|       3|           5|             25.0|           25.0|               15.0|            4.2626798770413155|              3.9318256327243257|Excellent Working...|  85|    10.0|                         0|                                     0|             0|                     1|                                  0|      [3.0]|          [1.0]|       [1.0]|     [4.0]|                 [3.0]|                   [3.0]|                  [3.0]|       [2.0]|          [3.0]|             [4.0]|       [3.0]|           [5.0]|               [25.0]|             [25.0]|                 [15.0]|              [4.2626798770413155]|                [3.9318256327243257]|  [85.0]|                         [0.0]|                                     [0.0]|             [0.0]|                     [1.0]|                                  [0.0]|         [0.5]|             [0.0]|          [0.0]|        [0.5]|                    [0.5]|                      [0.5]|                     [0.5]|         [0.25]|             [0.0]|               [0.75]|          [0.5]|               [1.0]|    [0.6981132075471698]|  [0.6981132075471698]|      [0.9411764705882353]|                 [0.7511207094117394]|                   [0.6940519851044624]|[0.8461538461538463]|                            [0.0]|                                        [0.0]|                [0.0]|                        [1.0]|                                     [0.0]|\n",
      "|      3|          1|       1|     4|                 3|                   3|                  3|       2|          3|             4|       3|           5|             25.0|           25.0|               13.0|             4.189654742026425|               3.979681653901961|Excellent Working...|  85|    10.0|                         0|                                     0|             0|                     1|                                  0|      [3.0]|          [1.0]|       [1.0]|     [4.0]|                 [3.0]|                   [3.0]|                  [3.0]|       [2.0]|          [3.0]|             [4.0]|       [3.0]|           [5.0]|               [25.0]|             [25.0]|                 [13.0]|               [4.189654742026425]|                 [3.979681653901961]|  [85.0]|                         [0.0]|                                     [0.0]|             [0.0]|                     [1.0]|                                  [0.0]|         [0.5]|             [0.0]|          [0.0]|        [0.5]|                    [0.5]|                      [0.5]|                     [0.5]|         [0.25]|             [0.0]|               [0.75]|          [0.5]|               [1.0]|    [0.6981132075471698]|  [0.6981132075471698]|      [0.7058823529411764]|                 [0.7289222237608742]|                   [0.7095723307199808]|[0.8461538461538463]|                            [0.0]|                                        [0.0]|                [0.0]|                        [1.0]|                                     [0.0]|\n",
      "|      3|          1|       3|     4|                 5|                   5|                  4|       3|          4|             3|       5|           4|            26.25|          26.25|                8.5|             4.590056548178043|                4.42484663185681|Excellent Working...|  85|    10.0|                         0|                                     0|             0|                     1|                                  0|      [3.0]|          [1.0]|       [3.0]|     [4.0]|                 [5.0]|                   [5.0]|                  [4.0]|       [3.0]|          [4.0]|             [3.0]|       [5.0]|           [4.0]|              [26.25]|            [26.25]|                  [8.5]|               [4.590056548178043]|                  [4.42484663185681]|  [85.0]|                         [0.0]|                                     [0.0]|             [0.0]|                     [1.0]|                                  [0.0]|         [0.5]|             [0.0]|          [0.5]|        [0.5]|                    [1.0]|                      [1.0]|                    [0.75]|          [0.5]|             [0.5]|                [0.5]|          [1.0]|[0.6666666666666666]|    [0.7452830188679245]|  [0.7452830188679245]|      [0.1764705882352941]|                 [0.8506380377285552]|                   [0.8539452673696499]|[0.8461538461538463]|                            [0.0]|                                        [0.0]|                [0.0]|                        [1.0]|                                     [0.0]|\n",
      "|      3|          1|       1|     4|                 5|                   5|                  5|       5|          4|             2|       1|           4|             10.5|           10.5|               14.5|             2.772588722239781|               2.772588722239781|Average Working/O...|  50|    33.0|                         0|                                     1|             0|                     0|                                  0|      [3.0]|          [1.0]|       [1.0]|     [4.0]|                 [5.0]|                   [5.0]|                  [5.0]|       [5.0]|          [4.0]|             [2.0]|       [1.0]|           [4.0]|               [10.5]|             [10.5]|                 [14.5]|               [2.772588722239781]|                 [2.772588722239781]|  [50.0]|                         [0.0]|                                     [1.0]|             [0.0]|                     [0.0]|                                  [0.0]|         [0.5]|             [0.0]|          [0.0]|        [0.5]|                    [1.0]|                      [1.0]|                     [1.0]|          [1.0]|             [0.5]|               [0.25]|          [0.0]|[0.6666666666666666]|    [0.1509433962264151]|  [0.1509433962264151]|      [0.8823529411764706]|                 [0.29815657436976...|                   [0.3180960017559297]|[0.3076923076923077]|                            [0.0]|                                        [1.0]|                [0.0]|                        [0.0]|                                     [0.0]|\n",
      "|      4|          1|       3|     3|                 5|                   5|                  3|       2|          3|             2|       3|           3|             26.0|           26.0|               11.0|             4.483002552013883|               4.483002552013883|Average Working/O...|  50|    33.0|                         0|                                     1|             0|                     0|                                  0|      [4.0]|          [1.0]|       [3.0]|     [3.0]|                 [5.0]|                   [5.0]|                  [3.0]|       [2.0]|          [3.0]|             [2.0]|       [3.0]|           [3.0]|               [26.0]|             [26.0]|                 [11.0]|               [4.483002552013883]|                 [4.483002552013883]|  [50.0]|                         [0.0]|                                     [1.0]|             [0.0]|                     [0.0]|                                  [0.0]|        [0.75]|             [0.0]|          [0.5]|        [0.0]|                    [1.0]|                      [1.0]|                     [0.5]|         [0.25]|             [0.0]|               [0.25]|          [0.5]|[0.3333333333333333]|    [0.7358490566037735]|  [0.7358490566037735]|      [0.47058823529411...|                 [0.8180953166882818]|                   [0.8728060075276323]|[0.3076923076923077]|                            [0.0]|                                        [1.0]|                [0.0]|                        [0.0]|                                     [0.0]|\n",
      "|      4|          1|       1|     5|                 3|                   3|                  4|       3|          5|             3|       3|           5|             20.5|           20.5|               13.5|            3.7727609380946383|              3.7727609380946383|      Brightest Dogs|  95|     2.5|                         0|                                     0|             1|                     0|                                  0|      [4.0]|          [1.0]|       [1.0]|     [5.0]|                 [3.0]|                   [3.0]|                  [4.0]|       [3.0]|          [5.0]|             [3.0]|       [3.0]|           [5.0]|               [20.5]|             [20.5]|                 [13.5]|              [3.7727609380946383]|                [3.7727609380946383]|  [95.0]|                         [0.0]|                                     [0.0]|             [1.0]|                     [0.0]|                                  [0.0]|        [0.75]|             [0.0]|          [0.0]|        [1.0]|                    [0.5]|                      [0.5]|                    [0.75]|          [0.5]|             [1.0]|                [0.5]|          [0.5]|               [1.0]|    [0.5283018867924528]|  [0.5283018867924528]|      [0.7647058823529411]|                 [0.6021931034021469]|                   [0.6424651842144337]|               [1.0]|                            [0.0]|                                        [0.0]|                [1.0]|                        [0.0]|                                     [0.0]|\n",
      "|      3|          1|       1|     3|                 5|                   3|                  4|       2|          4|             3|       2|           4|             13.5|           13.5|               13.5|            2.7245795030534206|              2.6210388241125804|Above Average Wor...|  70|    20.5|                         1|                                     0|             0|                     0|                                  0|      [3.0]|          [1.0]|       [1.0]|     [3.0]|                 [5.0]|                   [3.0]|                  [4.0]|       [2.0]|          [4.0]|             [3.0]|       [2.0]|           [4.0]|               [13.5]|             [13.5]|                 [13.5]|              [2.7245795030534206]|                [2.6210388241125804]|  [70.0]|                         [1.0]|                                     [0.0]|             [0.0]|                     [0.0]|                                  [0.0]|         [0.5]|             [0.0]|          [0.0]|        [0.0]|                    [1.0]|                      [0.5]|                    [0.75]|         [0.25]|             [0.5]|                [0.5]|         [0.25]|[0.6666666666666666]|    [0.2641509433962264]|  [0.2641509433962264]|      [0.7647058823529411]|                 [0.28356253133239...|                    [0.268946349548111]|[0.6153846153846154]|                            [1.0]|                                        [0.0]|                [0.0]|                        [0.0]|                                     [0.0]|\n",
      "|      2|          1|       1|     4|                 5|                   4|                  5|       2|          5|             3|       2|           4|             16.0|           16.0|               12.0|             2.970414465569701|               2.970414465569701|Average Working/O...|  50|    33.0|                         0|                                     1|             0|                     0|                                  0|      [2.0]|          [1.0]|       [1.0]|     [4.0]|                 [5.0]|                   [4.0]|                  [5.0]|       [2.0]|          [5.0]|             [3.0]|       [2.0]|           [4.0]|               [16.0]|             [16.0]|                 [12.0]|               [2.970414465569701]|                 [2.970414465569701]|  [50.0]|                         [0.0]|                                     [1.0]|             [0.0]|                     [0.0]|                                  [0.0]|        [0.25]|             [0.0]|          [0.0]|        [0.5]|                    [1.0]|                     [0.75]|                     [1.0]|         [0.25]|             [1.0]|                [0.5]|         [0.25]|[0.6666666666666666]|    [0.3584905660377358]|  [0.3584905660377358]|      [0.5882352941176471]|                 [0.3582924703703105]|                   [0.3822535274459694]|[0.3076923076923077]|                            [0.0]|                                        [1.0]|                [0.0]|                        [0.0]|                                     [0.0]|\n",
      "+-------+-----------+--------+------+------------------+--------------------+-------------------+--------+-----------+--------------+--------+------------+-----------------+---------------+-------------------+------------------------------+--------------------------------+--------------------+----+--------+--------------------------+--------------------------------------+--------------+----------------------+-----------------------------------+-----------+---------------+------------+----------+----------------------+------------------------+-----------------------+------------+---------------+------------------+------------+----------------+---------------------+-------------------+-----------------------+----------------------------------+------------------------------------+--------+------------------------------+------------------------------------------+------------------+--------------------------+---------------------------------------+--------------+------------------+---------------+-------------+-------------------------+---------------------------+--------------------------+---------------+------------------+---------------------+---------------+--------------------+------------------------+----------------------+--------------------------+-------------------------------------+---------------------------------------+--------------------+---------------------------------+---------------------------------------------+---------------------+-----------------------------+------------------------------------------+\n",
      "only showing top 20 rows\n",
      "\n"
     ]
    },
    {
     "name": "stderr",
     "output_type": "stream",
     "text": [
      "                                                                                \r"
     ]
    }
   ],
   "source": [
    "df = df.drop('breed')\n",
    "assemblers = []\n",
    "scalers = []\n",
    "for name, dtype in df.dtypes:\n",
    "    if name == 'avg_reps':\n",
    "        continue\n",
    "    if dtype in [\"int\",\"bigint\",\"double\"]:\n",
    "        assemblers.append(VectorAssembler(inputCols=[name], outputCol=name + \"_vec\"))\n",
    "        scalers.append(MinMaxScaler(inputCol=name + \"_vec\", outputCol=name + \"_scaled\"))\n",
    "\n",
    "pipeline = Pipeline(stages=assemblers + scalers)\n",
    "scalerModel = pipeline.fit(df)\n",
    "scaledData = scalerModel.transform(df)\n",
    "scaledData.show()"
   ]
  },
  {
   "cell_type": "markdown",
   "metadata": {},
   "source": [
    "## Variable Selection"
   ]
  },
  {
   "cell_type": "code",
   "execution_count": 11,
   "metadata": {},
   "outputs": [
    {
     "name": "stderr",
     "output_type": "stream",
     "text": [
      "24/04/25 11:34:43 WARN DAGScheduler: Broadcasting large task binary with size 1189.2 KiB\n"
     ]
    },
    {
     "name": "stdout",
     "output_type": "stream",
     "text": [
      "+--------+--------------+------------------+---------------+-------------+-------------------------+---------------------------+--------------------------+---------------+------------------+---------------------+---------------+--------------------+------------------------+----------------------+--------------------------+-------------------------------------+---------------------------------------+--------------------+---------------------------------+---------------------------------------------+---------------------+-----------------------------+------------------------------------------+\n",
      "|avg_reps|barking_scaled|coat_length_scaled|drooling_scaled|energy_scaled|good_with_children_scaled|good_with_other_dogs_scaled|good_with_strangers_scaled|grooming_scaled|playfulness_scaled|protectiveness_scaled|shedding_scaled| trainability_scaled|avg_height_female_scaled|avg_height_male_scaled|avg_life_expectancy_scaled|avg_weight_male_log_normalized_scaled|avg_weight_female_log_normalized_scaled|         obey_scaled|Above Average Working Dogs_scaled|Average Working/Obedience Intelligence_scaled|Brightest Dogs_scaled|Excellent Working Dogs_scaled|Fair Working/Obedience Intelligence_scaled|\n",
      "+--------+--------------+------------------+---------------+-------------+-------------------------+---------------------------+--------------------------+---------------+------------------+---------------------+---------------+--------------------+------------------------+----------------------+--------------------------+-------------------------------------+---------------------------------------+--------------------+---------------------------------+---------------------------------------------+---------------------+-----------------------------+------------------------------------------+\n",
      "|    20.5|         [0.5]|             [1.0]|          [0.0]|        [0.0]|                    [0.5]|                      [0.5]|                     [1.0]|          [0.5]|             [0.0]|                [0.5]|          [0.5]|[0.3333333333333333]|    [0.14150943396226...|  [0.14150943396226...|      [0.7647058823529411]|                 [0.13969055747361...|                   [0.14903246024119...|[0.6153846153846154]|                            [1.0]|                                        [0.0]|                [0.0]|                        [0.0]|                                     [0.0]|\n",
      "|    20.5|         [0.5]|             [1.0]|          [0.0]|        [0.0]|                    [0.5]|                      [0.5]|                     [0.5]|          [0.5]|             [0.0]|                [1.0]|          [0.0]|[0.3333333333333333]|    [0.6226415094339622]|  [0.6226415094339622]|      [0.6470588235294118]|                 [0.7049740833537622]|                   [0.7521197133767469]|[0.6153846153846154]|                            [1.0]|                                        [0.0]|                [0.0]|                        [0.0]|                                     [0.0]|\n",
      "|    33.0|        [0.25]|             [0.0]|          [0.0]|        [0.5]|                    [0.5]|                      [0.0]|                    [0.25]|          [0.5]|             [0.0]|                [1.0]|          [0.5]|[0.3333333333333333]|    [0.7735849056603773]|  [0.7735849056603773]|      [0.5882352941176471]|                 [0.9003496777719159]|                   [0.8635127260939063]|[0.3076923076923077]|                            [0.0]|                                        [1.0]|                [0.0]|                        [0.0]|                                     [0.0]|\n",
      "|    33.0|         [0.5]|             [0.0]|          [0.0]|        [0.5]|                    [0.5]|                      [0.5]|                     [0.5]|          [0.5]|             [0.0]|               [0.75]|          [0.5]|               [1.0]|    [0.6981132075471698]|  [0.6981132075471698]|      [0.5882352941176471]|                 [0.8093845723166504]|                   [0.8234230723303656]|[0.3076923076923077]|                            [0.0]|                                        [1.0]|                [0.0]|                        [0.0]|                                     [0.0]|\n",
      "|    33.0|         [1.0]|             [0.0]|          [0.0]|        [0.5]|                    [1.0]|                      [1.0]|                     [0.5]|          [0.0]|             [0.0]|                [0.5]|          [0.5]|[0.3333333333333333]|    [0.6415094339622641]|  [0.6415094339622641]|      [0.5882352941176471]|                 [0.7402240525052821]|                   [0.7651460961441438]|[0.3076923076923077]|                            [0.0]|                                        [1.0]|                [0.0]|                        [0.0]|                                     [0.0]|\n",
      "|    20.5|         [0.5]|             [0.0]|          [0.0]|        [0.0]|                    [0.5]|                      [0.5]|                    [0.75]|          [0.0]|             [0.0]|                [1.0]|         [0.25]|[0.3333333333333333]|    [0.4528301886792453]|  [0.4528301886792453]|      [0.8235294117647058]|                 [0.7171839245366656]|                   [0.6777514020665638]|[0.6153846153846154]|                            [1.0]|                                        [0.0]|                [0.0]|                        [0.0]|                                     [0.0]|\n",
      "|    33.0|         [0.5]|             [0.0]|          [0.0]|        [0.0]|                    [0.5]|                      [0.5]|                     [0.5]|          [0.5]|             [0.0]|                [0.5]|          [0.0]|               [1.0]|    [0.3773584905660377]|  [0.3773584905660377]|      [0.5882352941176471]|                 [0.5650758154667803]|                    [0.557749515654085]|[0.3076923076923077]|                            [0.0]|                                        [1.0]|                [0.0]|                        [0.0]|                                     [0.0]|\n",
      "|     2.5|         [0.0]|             [0.0]|          [0.0]|        [1.0]|                    [0.5]|                      [0.5]|                     [0.5]|          [0.0]|             [0.0]|               [0.75]|          [0.5]|[0.6666666666666666]|    [0.4716981132075472]|  [0.4716981132075472]|      [0.8235294117647058]|                 [0.6021931034021469]|                   [0.6424651842144337]|               [1.0]|                            [0.0]|                                        [0.0]|                [1.0]|                        [0.0]|                                     [0.0]|\n",
      "|    33.0|         [0.5]|             [0.0]|          [0.0]|        [1.0]|                    [1.0]|                      [0.5]|                     [0.5]|         [0.25]|             [0.5]|                [0.5]|          [0.5]|               [1.0]|    [0.5660377358490566]|  [0.5660377358490566]|      [0.7647058823529411]|                 [0.6922532240325988]|                   [0.6777514020665638]|[0.3076923076923077]|                            [0.0]|                                        [1.0]|                [0.0]|                        [0.0]|                                     [0.0]|\n",
      "|    20.5|         [1.0]|             [0.0]|          [0.0]|        [0.5]|                    [1.0]|                      [0.5]|                     [0.5]|         [0.25]|             [0.5]|               [0.75]|          [0.0]|[0.6666666666666666]|    [0.1509433962264151]|  [0.1509433962264151]|      [0.7058823529411764]|                 [0.34228960831266...|                   [0.3651804629061445]|[0.6153846153846154]|                            [1.0]|                                        [0.0]|                [0.0]|                        [0.0]|                                     [0.0]|\n",
      "|    20.5|         [1.0]|             [0.0]|          [0.0]|        [0.5]|                    [1.0]|                      [1.0]|                    [0.75]|         [0.75]|             [0.5]|                [0.5]|          [0.5]|[0.3333333333333333]|    [0.5660377358490566]|  [0.5660377358490566]|      [0.7058823529411764]|                 [0.6505462538698094]|                   [0.6940519851044624]|[0.6153846153846154]|                            [1.0]|                                        [0.0]|                [0.0]|                        [0.0]|                                     [0.0]|\n",
      "|    33.0|         [0.5]|             [0.0]|          [0.0]|        [0.5]|                    [0.5]|                      [0.5]|                     [0.5]|          [0.5]|             [0.0]|               [0.75]|          [0.0]|[0.3333333333333333]|    [0.36792452830188...|  [0.36792452830188...|      [0.7647058823529411]|                 [0.38082012137887...|                   [0.40628773071626...|[0.3076923076923077]|                            [0.0]|                                        [1.0]|                [0.0]|                        [0.0]|                                     [0.0]|\n",
      "|    10.0|         [0.5]|             [0.0]|          [0.0]|        [0.5]|                    [0.5]|                      [0.5]|                     [0.5]|         [0.25]|             [0.0]|               [0.75]|          [0.5]|               [1.0]|    [0.6981132075471698]|  [0.6981132075471698]|      [0.9411764705882353]|                 [0.7511207094117394]|                   [0.6940519851044624]|[0.8461538461538463]|                            [0.0]|                                        [0.0]|                [0.0]|                        [1.0]|                                     [0.0]|\n",
      "|    10.0|         [0.5]|             [0.0]|          [0.0]|        [0.5]|                    [0.5]|                      [0.5]|                     [0.5]|         [0.25]|             [0.0]|               [0.75]|          [0.5]|               [1.0]|    [0.6981132075471698]|  [0.6981132075471698]|      [0.7058823529411764]|                 [0.7289222237608742]|                   [0.7095723307199808]|[0.8461538461538463]|                            [0.0]|                                        [0.0]|                [0.0]|                        [1.0]|                                     [0.0]|\n",
      "|    10.0|         [0.5]|             [0.0]|          [0.5]|        [0.5]|                    [1.0]|                      [1.0]|                    [0.75]|          [0.5]|             [0.5]|                [0.5]|          [1.0]|[0.6666666666666666]|    [0.7452830188679245]|  [0.7452830188679245]|      [0.1764705882352941]|                 [0.8506380377285552]|                   [0.8539452673696499]|[0.8461538461538463]|                            [0.0]|                                        [0.0]|                [0.0]|                        [1.0]|                                     [0.0]|\n",
      "|    33.0|         [0.5]|             [0.0]|          [0.0]|        [0.5]|                    [1.0]|                      [1.0]|                     [1.0]|          [1.0]|             [0.5]|               [0.25]|          [0.0]|[0.6666666666666666]|    [0.1509433962264151]|  [0.1509433962264151]|      [0.8823529411764706]|                 [0.29815657436976...|                   [0.3180960017559297]|[0.3076923076923077]|                            [0.0]|                                        [1.0]|                [0.0]|                        [0.0]|                                     [0.0]|\n",
      "|    33.0|        [0.75]|             [0.0]|          [0.5]|        [0.0]|                    [1.0]|                      [1.0]|                     [0.5]|         [0.25]|             [0.0]|               [0.25]|          [0.5]|[0.3333333333333333]|    [0.7358490566037735]|  [0.7358490566037735]|      [0.47058823529411...|                 [0.8180953166882818]|                   [0.8728060075276323]|[0.3076923076923077]|                            [0.0]|                                        [1.0]|                [0.0]|                        [0.0]|                                     [0.0]|\n",
      "|     2.5|        [0.75]|             [0.0]|          [0.0]|        [1.0]|                    [0.5]|                      [0.5]|                    [0.75]|          [0.5]|             [1.0]|                [0.5]|          [0.5]|               [1.0]|    [0.5283018867924528]|  [0.5283018867924528]|      [0.7647058823529411]|                 [0.6021931034021469]|                   [0.6424651842144337]|               [1.0]|                            [0.0]|                                        [0.0]|                [1.0]|                        [0.0]|                                     [0.0]|\n",
      "|    20.5|         [0.5]|             [0.0]|          [0.0]|        [0.0]|                    [1.0]|                      [0.5]|                    [0.75]|         [0.25]|             [0.5]|                [0.5]|         [0.25]|[0.6666666666666666]|    [0.2641509433962264]|  [0.2641509433962264]|      [0.7647058823529411]|                 [0.28356253133239...|                    [0.268946349548111]|[0.6153846153846154]|                            [1.0]|                                        [0.0]|                [0.0]|                        [0.0]|                                     [0.0]|\n",
      "|    33.0|        [0.25]|             [0.0]|          [0.0]|        [0.5]|                    [1.0]|                     [0.75]|                     [1.0]|         [0.25]|             [1.0]|                [0.5]|         [0.25]|[0.6666666666666666]|    [0.3584905660377358]|  [0.3584905660377358]|      [0.5882352941176471]|                 [0.3582924703703105]|                   [0.3822535274459694]|[0.3076923076923077]|                            [0.0]|                                        [1.0]|                [0.0]|                        [0.0]|                                     [0.0]|\n",
      "+--------+--------------+------------------+---------------+-------------+-------------------------+---------------------------+--------------------------+---------------+------------------+---------------------+---------------+--------------------+------------------------+----------------------+--------------------------+-------------------------------------+---------------------------------------+--------------------+---------------------------------+---------------------------------------------+---------------------+-----------------------------+------------------------------------------+\n",
      "only showing top 20 rows\n",
      "\n"
     ]
    }
   ],
   "source": [
    "scaled_vars = [var for var, dtype in scaledData.dtypes if var[-6:] == \"scaled\"]\n",
    "df_regression = scaledData.select('avg_reps',*scaled_vars)\n",
    "df_regression.show()"
   ]
  },
  {
   "cell_type": "markdown",
   "metadata": {},
   "source": [
    "# Linear Regression Training"
   ]
  },
  {
   "cell_type": "code",
   "execution_count": 13,
   "metadata": {},
   "outputs": [],
   "source": [
    "from pyspark.ml.regression import LinearRegression\n",
    "from pyspark.ml.evaluation import RegressionEvaluator"
   ]
  },
  {
   "cell_type": "code",
   "execution_count": 14,
   "metadata": {},
   "outputs": [
    {
     "name": "stderr",
     "output_type": "stream",
     "text": [
      "24/04/25 11:35:03 WARN DAGScheduler: Broadcasting large task binary with size 1357.1 KiB\n",
      "24/04/25 11:35:05 WARN DAGScheduler: Broadcasting large task binary with size 1346.2 KiB\n"
     ]
    },
    {
     "data": {
      "text/plain": [
       "PipelineModel_100c784e4164"
      ]
     },
     "execution_count": 14,
     "metadata": {},
     "output_type": "execute_result"
    }
   ],
   "source": [
    "df_regression = df_regression.withColumn('isVal', when(rand() > 0.5, 1).otherwise(0))\n",
    "\n",
    "train = df_regression.where(col(\"isVal\") > 0.5)\n",
    "\n",
    "test = df_regression.where(col(\"isVal\") < 0.5)\n",
    "\n",
    "train = train.drop('isVal')\n",
    "\n",
    "test = test.drop('isVal')\n",
    "\n",
    "assembler = VectorAssembler(inputCols=scaled_vars, outputCol=\"features\")\n",
    "\n",
    "linear_regression = LinearRegression(labelCol=\"avg_reps\",predictionCol=\"predicted_avg_reps\", featuresCol=\"features\",regParam=0.1)\n",
    "\n",
    "pipeline = Pipeline(stages=[assembler, linear_regression])\n",
    "\n",
    "model = pipeline.fit(train)\n",
    "\n",
    "model"
   ]
  },
  {
   "cell_type": "code",
   "execution_count": 15,
   "metadata": {},
   "outputs": [
    {
     "name": "stderr",
     "output_type": "stream",
     "text": [
      "24/04/25 11:35:10 WARN DAGScheduler: Broadcasting large task binary with size 1347.0 KiB\n"
     ]
    },
    {
     "name": "stdout",
     "output_type": "stream",
     "text": [
      "Root Mean Squared Error (RMSE) on test data: 0.003\n"
     ]
    }
   ],
   "source": [
    "predictions = model.transform(test)\n",
    "\n",
    "# Evaluate the model using MSE\n",
    "\n",
    "evaluator = RegressionEvaluator(labelCol=\"avg_reps\", predictionCol=\"predicted_avg_reps\", metricName=\"mse\")\n",
    "mse = evaluator.evaluate(predictions)\n",
    "print(\"Root Mean Squared Error (RMSE) on test data: {:.3f}\".format(mse))"
   ]
  },
  {
   "cell_type": "code",
   "execution_count": null,
   "metadata": {},
   "outputs": [
    {
     "data": {
      "text/plain": [
       "DataFrame[avg_reps: double, classification_onehot: vector, breed_onehot: vector, barking_scaled: vector, coat_length_scaled: vector, drooling_scaled: vector, energy_scaled: vector, good_with_children_scaled: vector, good_with_other_dogs_scaled: vector, good_with_strangers_scaled: vector, grooming_scaled: vector, playfulness_scaled: vector, protectiveness_scaled: vector, shedding_scaled: vector, trainability_scaled: vector, avg_height_female_scaled: vector, avg_height_male_scaled: vector, avg_life_expectancy_scaled: vector, avg_weight_male_log_normalized_scaled: vector, avg_weight_female_log_normalized_scaled: vector, obey_scaled: vector, avg_reps_scaled: vector, breed_indexed_scaled: vector, classification_indexed_scaled: vector, features: vector, prediction: double]"
      ]
     },
     "execution_count": 47,
     "metadata": {},
     "output_type": "execute_result"
    }
   ],
   "source": [
    "predictions"
   ]
  }
 ],
 "metadata": {
  "kernelspec": {
   "display_name": "Python 3",
   "language": "python",
   "name": "python3"
  },
  "language_info": {
   "codemirror_mode": {
    "name": "ipython",
    "version": 3
   },
   "file_extension": ".py",
   "mimetype": "text/x-python",
   "name": "python",
   "nbconvert_exporter": "python",
   "pygments_lexer": "ipython3",
   "version": "3.10.12"
  }
 },
 "nbformat": 4,
 "nbformat_minor": 2
}
