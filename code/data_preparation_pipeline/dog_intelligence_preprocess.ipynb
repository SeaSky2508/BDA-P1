{
 "cells": [
  {
   "cell_type": "markdown",
   "metadata": {},
   "source": [
    "# Data loading"
   ]
  },
  {
   "cell_type": "code",
   "execution_count": 1,
   "metadata": {},
   "outputs": [
    {
     "name": "stderr",
     "output_type": "stream",
     "text": [
      "24/04/25 17:06:08 WARN NativeCodeLoader: Unable to load native-hadoop library for your platform... using builtin-java classes where applicable\n",
      "Setting default log level to \"WARN\".\n",
      "To adjust logging level use sc.setLogLevel(newLevel). For SparkR, use setLogLevel(newLevel).\n",
      "24/04/25 17:06:09 WARN Utils: Service 'SparkUI' could not bind on port 4040. Attempting port 4041.\n",
      "24/04/25 17:06:09 WARN Utils: Service 'SparkUI' could not bind on port 4041. Attempting port 4042.\n",
      "24/04/25 17:06:09 WARN Utils: Service 'SparkUI' could not bind on port 4042. Attempting port 4043.\n"
     ]
    },
    {
     "name": "stdout",
     "output_type": "stream",
     "text": [
      "+--------------------+--------------------+----+----------+----------+\n",
      "|               Breed|      Classification|obey|reps_lower|reps_upper|\n",
      "+--------------------+--------------------+----+----------+----------+\n",
      "|       Border Collie|      Brightest Dogs|  95|         1|         4|\n",
      "|              Poodle|      Brightest Dogs|  95|         1|         4|\n",
      "|     German Shepherd|      Brightest Dogs|  95|         1|         4|\n",
      "|    Golden Retriever|      Brightest Dogs|  95|         1|         4|\n",
      "|   Doberman Pinscher|      Brightest Dogs|  95|         1|         4|\n",
      "|   Shetland Sheepdog|      Brightest Dogs|  95|         1|         4|\n",
      "|  Labrador Retriever|      Brightest Dogs|  95|         1|         4|\n",
      "|            Papillon|      Brightest Dogs|  95|         1|         4|\n",
      "|          Rottweiler|      Brightest Dogs|  95|         1|         4|\n",
      "|Australian Cattle...|      Brightest Dogs|  95|         1|         4|\n",
      "|Pembroke Welsh Corgi|Excellent Working...|  85|         5|        15|\n",
      "| Miniature Schnauzer|Excellent Working...|  85|         5|        15|\n",
      "|English Springer ...|Excellent Working...|  85|         5|        15|\n",
      "|Belgian Shepherd ...|Excellent Working...|  85|         5|        15|\n",
      "|          Schipperke|Excellent Working...|  85|         5|        15|\n",
      "|    Belgian Sheepdog|Excellent Working...|  85|         5|        15|\n",
      "|              Collie|Excellent Working...|  85|         5|        15|\n",
      "|            Keeshond|Excellent Working...|  85|         5|        15|\n",
      "|German Shorthaire...|Excellent Working...|  85|         5|        15|\n",
      "|Flat-Coated Retri...|Excellent Working...|  85|         5|        15|\n",
      "+--------------------+--------------------+----+----------+----------+\n",
      "only showing top 20 rows\n",
      "\n"
     ]
    }
   ],
   "source": [
    "from pyspark.sql import SparkSession\n",
    "from pyspark.conf import SparkConf\n",
    "from pyspark.sql.functions import UserDefinedFunction, col, mean\n",
    "from pyspark.ml.stat import Correlation\n",
    "from pyspark.ml.feature import VectorAssembler\n",
    "import matplotlib.pyplot as plt\n",
    "import pandas as pd\n",
    "import os\n",
    "\n",
    "\"\"\"\n",
    "Spark session variables declaration and spark initialization\n",
    "\"\"\"\n",
    "\n",
    "path = os.getcwd()\n",
    "\n",
    "conf = SparkConf() \\\n",
    "    .setAppName(\"PostgreSQL Writing to Formatted Table\") \\\n",
    "    .set(\"spark.jars\", path+\"/../..\"+\"/driver/postgresql-42.7.3.jar\")\n",
    "\n",
    "spark = SparkSession.builder \\\n",
    "    .config(conf=conf) \\\n",
    "    .getOrCreate()\n",
    "\n",
    "\n",
    "\"\"\"\n",
    "Connection details for table from formatted zone read\n",
    "\"\"\"\n",
    "\n",
    "jdbc_url = \"jdbc:postgresql://localhost:5432/bda_p1\"\n",
    "driver_class = \"org.postgresql.Driver\"\n",
    "user = \"postgres\"\n",
    "password = \"postgres\"\n",
    "connectionProperties = {\"user\": \"postgres\", \"password\": password}\n",
    "\n",
    "\n",
    "df = spark.read \\\n",
    "    .format(\"jdbc\") \\\n",
    "    .option(\"url\", \"jdbc:postgresql://localhost:5432/bda_p1\") \\\n",
    "    .option(\"dbtable\", \"dog_intelligence_formatted\") \\\n",
    "    .option(\"user\", connectionProperties[\"user\"]) \\\n",
    "    .option(\"password\", connectionProperties[\"password\"]) \\\n",
    "    .option(\"driver\", \"org.postgresql.Driver\") \\\n",
    "    .load()\n",
    "\n",
    "df.show()"
   ]
  },
  {
   "cell_type": "markdown",
   "metadata": {},
   "source": [
    "# Missings Treatment"
   ]
  },
  {
   "cell_type": "code",
   "execution_count": 2,
   "metadata": {},
   "outputs": [
    {
     "name": "stdout",
     "output_type": "stream",
     "text": [
      "No Missing Values found on variable Breed\n",
      "No Missing Values found on variable Classification\n",
      "No Missing Values found on variable reps_lower\n",
      "No Missing Values found on variable reps_upper\n"
     ]
    }
   ],
   "source": [
    "total_missings, missing_cols = 0, []\n",
    "for name, dtype in df.dtypes:\n",
    "    try:\n",
    "        if dtype == 'string':\n",
    "            filtered_df = df.filter(col(name) == \"n/a\")\n",
    "        elif dtype == 'int':\n",
    "            filtered_df = df.filter(col(name) == 101)\n",
    "        class_count = filtered_df.groupBy(name).count()\n",
    "        number_of_missings = class_count.first()[\"count\"]\n",
    "        missing_cols.append(name)\n",
    "        total_missings += number_of_missings\n",
    "    except TypeError:\n",
    "        print(f\"No Missing Values found on variable {name}\")"
   ]
  },
  {
   "cell_type": "code",
   "execution_count": 3,
   "metadata": {},
   "outputs": [
    {
     "name": "stdout",
     "output_type": "stream",
     "text": [
      "Total Number of Rows before missings removal: 272\n",
      "Percentage of Missings over whole dataset: 8.088235294117647\n",
      "Total Number of Rows after missings removal: 250\n"
     ]
    }
   ],
   "source": [
    "print(\"Total Number of Rows before missings removal:\", df.count())\n",
    "missings_percentage = (total_missings/df.count())*100\n",
    "print(\"Percentage of Missings over whole dataset:\",missings_percentage)\n",
    "for name, data_type in df.dtypes:\n",
    "    if missings_percentage > 10: # If more than 10% of data contains missings a missing imputation method is used\n",
    "        \n",
    "            if name in missing_cols:\n",
    "                if data_type == 'string':\n",
    "\n",
    "                    # Mode extraction\n",
    "                    grouped_df = df.groupBy(col(name))\n",
    "\n",
    "                    value_counts = grouped_df.count()\n",
    "\n",
    "                    sorted_counts = value_counts.orderBy(col('count').desc())\n",
    "\n",
    "                    # We need to count again the missings from the column to know if the most common value is a missing\n",
    "                    filtered_df = df.filter(col(\"classification\") == \"n/a\")\n",
    "                    class_count = filtered_df.groupBy('classification').count()\n",
    "                    number_of_missings = class_count.first()[\"count\"]\n",
    "\n",
    "                    if number_of_missings/df.count() < 0.5: # If the missing value is more than half, the second most common value will be taken as the first will be the missing value\n",
    "                        most_common_value = sorted_counts.first()[name]\n",
    "                    else:\n",
    "                        most_common_value = sorted_counts.rdd.skip(1).take(1)[0][name]\n",
    "\n",
    "                    udf = UserDefinedFunction(lambda x: most_common_value if x==\"n/a\" else x, data_type)\n",
    "\n",
    "                    df = df.select(*[udf(column).alias(name) if column == name else column for column in df.columns])\n",
    "                \n",
    "                elif data_type == 'int':\n",
    "                    # Mean Extraction\n",
    "                    mean_value = df.select(mean(col(name))).first()[0]\n",
    "\n",
    "                    udf = UserDefinedFunction(lambda x: mean_value if x==101 else x, data_type)\n",
    "\n",
    "                    df = df.select(*[udf(column).alias(name) if column == name else column for column in df.columns])\n",
    "        \n",
    "    else: # If missings do not take more than 10% of data it is deemed safe to remove them\n",
    "        if data_type == 'string':\n",
    "            df = df.filter(col(name) != \"n/a\")\n",
    "\n",
    "        elif data_type == 'int':\n",
    "            df = df.filter(col(name) != 101)\n",
    "\n",
    "print(\"Total Number of Rows after missings removal:\", df.count())"
   ]
  },
  {
   "cell_type": "markdown",
   "metadata": {},
   "source": [
    "# Correlations Study"
   ]
  },
  {
   "cell_type": "code",
   "execution_count": 15,
   "metadata": {},
   "outputs": [
    {
     "name": "stdout",
     "output_type": "stream",
     "text": [
      "Collecting pandas==1.3.5\n",
      "  Downloading pandas-1.3.5-cp310-cp310-manylinux_2_17_x86_64.manylinux2014_x86_64.whl (11.5 MB)\n",
      "\u001b[2K     \u001b[90m━━━━━━━━━━━━━━━━━━━━━━━━━━━━━━━━━━━━━━━━\u001b[0m \u001b[32m11.5/11.5 MB\u001b[0m \u001b[31m4.5 MB/s\u001b[0m eta \u001b[36m0:00:00\u001b[0m00:01\u001b[0m00:01\u001b[0mm\n",
      "\u001b[?25hRequirement already satisfied: python-dateutil>=2.7.3 in /home/popere/Entorns/envBDA/lib/python3.10/site-packages (from pandas==1.3.5) (2.9.0.post0)\n",
      "Requirement already satisfied: numpy>=1.21.0 in /home/popere/Entorns/envBDA/lib/python3.10/site-packages (from pandas==1.3.5) (1.26.4)\n",
      "Requirement already satisfied: pytz>=2017.3 in /home/popere/Entorns/envBDA/lib/python3.10/site-packages (from pandas==1.3.5) (2024.1)\n",
      "Requirement already satisfied: six>=1.5 in /home/popere/Entorns/envBDA/lib/python3.10/site-packages (from python-dateutil>=2.7.3->pandas==1.3.5) (1.16.0)\n",
      "Installing collected packages: pandas\n",
      "  Attempting uninstall: pandas\n",
      "    Found existing installation: pandas 1.4.4\n",
      "    Uninstalling pandas-1.4.4:\n",
      "      Successfully uninstalled pandas-1.4.4\n",
      "Successfully installed pandas-1.3.5\n"
     ]
    },
    {
     "ename": "AttributeError",
     "evalue": "'Styler' object has no attribute 'set_precision'",
     "output_type": "error",
     "traceback": [
      "\u001b[0;31m---------------------------------------------------------------------------\u001b[0m",
      "\u001b[0;31mAttributeError\u001b[0m                            Traceback (most recent call last)",
      "Cell \u001b[0;32mIn[15], line 11\u001b[0m\n\u001b[1;32m      9\u001b[0m corr_matrix \u001b[38;5;241m=\u001b[39m matrix\u001b[38;5;241m.\u001b[39mtoArray()\u001b[38;5;241m.\u001b[39mtolist() \n\u001b[1;32m     10\u001b[0m corr_matrix_df \u001b[38;5;241m=\u001b[39m pd\u001b[38;5;241m.\u001b[39mDataFrame(data\u001b[38;5;241m=\u001b[39mcorr_matrix, columns \u001b[38;5;241m=\u001b[39m numeric_variables, index\u001b[38;5;241m=\u001b[39mnumeric_variables) \n\u001b[0;32m---> 11\u001b[0m \u001b[43mcorr_matrix_df\u001b[49m\u001b[38;5;241;43m.\u001b[39;49m\u001b[43mstyle\u001b[49m\u001b[38;5;241;43m.\u001b[39;49m\u001b[43mbackground_gradient\u001b[49m\u001b[43m(\u001b[49m\u001b[43mcmap\u001b[49m\u001b[38;5;241;43m=\u001b[39;49m\u001b[38;5;124;43m'\u001b[39;49m\u001b[38;5;124;43mcoolwarm\u001b[39;49m\u001b[38;5;124;43m'\u001b[39;49m\u001b[43m)\u001b[49m\u001b[38;5;241;43m.\u001b[39;49m\u001b[43mset_precision\u001b[49m(\u001b[38;5;241m2\u001b[39m)\n",
      "\u001b[0;31mAttributeError\u001b[0m: 'Styler' object has no attribute 'set_precision'"
     ]
    }
   ],
   "source": [
    "vector_col = \"corr_features\"\n",
    "numeric_variables = [column for column, dtype in df.dtypes if dtype == \"int\"]\n",
    "assembler = VectorAssembler(inputCols=numeric_variables, outputCol=vector_col)\n",
    "df_vector = assembler.transform(df).select(vector_col)\n",
    "\n",
    "# get correlation matrix\n",
    "matrix = Correlation.corr(df_vector, 'corr_features').collect()[0][0] \n",
    "corr_matrix = matrix.toArray().tolist() \n",
    "corr_matrix_df = pd.DataFrame(data=corr_matrix, columns = numeric_variables, index=numeric_variables) \n",
    "corr_matrix_df.style.background_gradient(cmap='coolwarm').set_precision(2)"
   ]
  },
  {
   "cell_type": "code",
   "execution_count": 16,
   "metadata": {},
   "outputs": [
    {
     "name": "stdout",
     "output_type": "stream",
     "text": [
      "+--------------------+--------------------+----+--------+\n",
      "|               Breed|      Classification|obey|avg_reps|\n",
      "+--------------------+--------------------+----+--------+\n",
      "|       Border Collie|      Brightest Dogs|  95|     2.5|\n",
      "|              Poodle|      Brightest Dogs|  95|     2.5|\n",
      "|     German Shepherd|      Brightest Dogs|  95|     2.5|\n",
      "|    Golden Retriever|      Brightest Dogs|  95|     2.5|\n",
      "|   Doberman Pinscher|      Brightest Dogs|  95|     2.5|\n",
      "|   Shetland Sheepdog|      Brightest Dogs|  95|     2.5|\n",
      "|  Labrador Retriever|      Brightest Dogs|  95|     2.5|\n",
      "|            Papillon|      Brightest Dogs|  95|     2.5|\n",
      "|          Rottweiler|      Brightest Dogs|  95|     2.5|\n",
      "|Australian Cattle...|      Brightest Dogs|  95|     2.5|\n",
      "|Pembroke Welsh Corgi|Excellent Working...|  85|    10.0|\n",
      "| Miniature Schnauzer|Excellent Working...|  85|    10.0|\n",
      "|English Springer ...|Excellent Working...|  85|    10.0|\n",
      "|Belgian Shepherd ...|Excellent Working...|  85|    10.0|\n",
      "|          Schipperke|Excellent Working...|  85|    10.0|\n",
      "|    Belgian Sheepdog|Excellent Working...|  85|    10.0|\n",
      "|              Collie|Excellent Working...|  85|    10.0|\n",
      "|            Keeshond|Excellent Working...|  85|    10.0|\n",
      "|German Shorthaire...|Excellent Working...|  85|    10.0|\n",
      "|Flat-Coated Retri...|Excellent Working...|  85|    10.0|\n",
      "+--------------------+--------------------+----+--------+\n",
      "only showing top 20 rows\n",
      "\n"
     ]
    }
   ],
   "source": [
    "for pair in [(\"reps_lower\",\"reps_upper\")]:\n",
    "\n",
    "    marksColumns = [col(pair[0]), col(pair[1])]\n",
    "\n",
    "    averageFunc = sum(x for x in marksColumns)/len(marksColumns)\n",
    "\n",
    "    df = df.withColumn(\"avg_\"+\"\".join(pair[0].split(\"_\")[0]), averageFunc)\n",
    "\n",
    "    df = df.drop(pair[0])\n",
    "    df = df.drop(pair[1])\n",
    "\n",
    "df.show()"
   ]
  },
  {
   "cell_type": "markdown",
   "metadata": {},
   "source": [
    "# Data Distribution Visualization"
   ]
  },
  {
   "cell_type": "code",
   "execution_count": 19,
   "metadata": {},
   "outputs": [
    {
     "name": "stdout",
     "output_type": "stream",
     "text": [
      "Collecting pandas==2.2.2\n",
      "  Using cached pandas-2.2.2-cp310-cp310-manylinux_2_17_x86_64.manylinux2014_x86_64.whl (13.0 MB)\n",
      "Requirement already satisfied: pytz>=2020.1 in /home/popere/Entorns/envBDA/lib/python3.10/site-packages (from pandas==2.2.2) (2024.1)\n",
      "Requirement already satisfied: python-dateutil>=2.8.2 in /home/popere/Entorns/envBDA/lib/python3.10/site-packages (from pandas==2.2.2) (2.9.0.post0)\n",
      "Requirement already satisfied: numpy>=1.22.4 in /home/popere/Entorns/envBDA/lib/python3.10/site-packages (from pandas==2.2.2) (1.26.4)\n",
      "Requirement already satisfied: tzdata>=2022.7 in /home/popere/Entorns/envBDA/lib/python3.10/site-packages (from pandas==2.2.2) (2024.1)\n",
      "Requirement already satisfied: six>=1.5 in /home/popere/Entorns/envBDA/lib/python3.10/site-packages (from python-dateutil>=2.8.2->pandas==2.2.2) (1.16.0)\n",
      "Installing collected packages: pandas\n",
      "  Attempting uninstall: pandas\n",
      "    Found existing installation: pandas 1.3.5\n",
      "    Uninstalling pandas-1.3.5:\n",
      "      Successfully uninstalled pandas-1.3.5\n",
      "Successfully installed pandas-2.2.2\n"
     ]
    },
    {
     "data": {
      "image/png": "[encoded data removed]",
      "text/plain": [
       "<Figure size 640x480 with 1 Axes>"
      ]
     },
     "metadata": {},
     "output_type": "display_data"
    },
    {
     "data": {
      "image/png": "[encoded data removed]",
      "text/plain": [
       "<Figure size 640x480 with 1 Axes>"
      ]
     },
     "metadata": {},
     "output_type": "display_data"
    }
   ],
   "source": [
    "numeric_variables = [column for column, dtype in df.dtypes if dtype == \"int\" or dtype == \"double\"]\n",
    "for num_col in numeric_variables:\n",
    "  df_pandas = df.toPandas()  # Convert to pandas DataFrame\n",
    "  df_pandas[num_col].plot.hist()\n",
    "  plt.title(f\"Histogram for column: {num_col}\")\n",
    "  plt.show()"
   ]
  },
  {
   "cell_type": "markdown",
   "metadata": {},
   "source": [
    "Data looks pretty normal so no outlier removal is needed in our opinion, however it would be worth seeing how many outliers are detected."
   ]
  },
  {
   "cell_type": "markdown",
   "metadata": {},
   "source": [
    "# Outlier Detection"
   ]
  },
  {
   "cell_type": "code",
   "execution_count": 20,
   "metadata": {},
   "outputs": [
    {
     "name": "stdout",
     "output_type": "stream",
     "text": [
      "Number of rows prior to outliers removal: 250\n",
      "Number of rows after outliers removal: 206\n",
      "Percentage of rows that present outliers: 0.17600000000000005\n"
     ]
    }
   ],
   "source": [
    "print(\"Number of rows prior to outliers removal:\",df.count())\n",
    "\n",
    "df_filtered = df\n",
    "\n",
    "factor = 1.5\n",
    "for name, data_type in df.dtypes:\n",
    "\n",
    "    if data_type == \"int\" or data_type == \"double\":\n",
    "\n",
    "        quantiles = df.approxQuantile(name, [0.25, 0.75], 0.01)\n",
    "        q1, q3 = quantiles[0], quantiles[1]\n",
    "        iqr = q3 - q1\n",
    "\n",
    "        lower_bound = q1 - factor * iqr\n",
    "        upper_bound = q3 + factor * iqr\n",
    "\n",
    "        df_filtered = df_filtered.filter((col(name) >= lower_bound) & (col(name) <= upper_bound))\n",
    "\n",
    "print(\"Number of rows after outliers removal:\",df_filtered.count())\n",
    "print(\"Percentage of rows that present outliers:\",1-df_filtered.count()/df.count())"
   ]
  },
  {
   "cell_type": "markdown",
   "metadata": {},
   "source": [
    "As expected, there are no outliers in our data"
   ]
  },
  {
   "cell_type": "markdown",
   "metadata": {},
   "source": [
    "# Data Storage"
   ]
  },
  {
   "cell_type": "code",
   "execution_count": 21,
   "metadata": {},
   "outputs": [],
   "source": [
    "jdbc_url = \"jdbc:postgresql://localhost:5432/bda_p1\"\n",
    "driver_class = \"org.postgresql.Driver\"\n",
    "user = \"postgres\"\n",
    "password = \"postgres\"\n",
    "connectionProperties = {\"user\": \"postgres\", \"password\": \"postgres\"}\n",
    "\n",
    "\n",
    "df.write \\\n",
    "  .format(\"jdbc\") \\\n",
    "  .option(\"url\", jdbc_url) \\\n",
    "  .option(\"driver\", \"org.postgresql.Driver\") \\\n",
    "  .option(\"dbtable\", \"dog_intelligence_trusted\") \\\n",
    "  .option(\"user\", connectionProperties[\"user\"]) \\\n",
    "  .option(\"password\", connectionProperties[\"password\"]) \\\n",
    "  .mode(\"append\") \\\n",
    "  .jdbc(jdbc_url,\"dog_intelligence_trusted\")"
   ]
  }
 ],
 "metadata": {
  "kernelspec": {
   "display_name": "Python 3",
   "language": "python",
   "name": "python3"
  },
  "language_info": {
   "codemirror_mode": {
    "name": "ipython",
    "version": 3
   },
   "file_extension": ".py",
   "mimetype": "text/x-python",
   "name": "python",
   "nbconvert_exporter": "python",
   "pygments_lexer": "ipython3",
   "version": "3.10.12"
  }
 },
 "nbformat": 4,
 "nbformat_minor": 2
}
