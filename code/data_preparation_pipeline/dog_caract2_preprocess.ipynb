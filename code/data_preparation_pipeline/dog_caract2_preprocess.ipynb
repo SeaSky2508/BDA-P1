{
 "cells": [
  {
   "cell_type": "markdown",
   "metadata": {},
   "source": [
    "# Data Loading"
   ]
  },
  {
   "cell_type": "code",
   "execution_count": 16,
   "metadata": {},
   "outputs": [
    {
     "name": "stdout",
     "output_type": "stream",
     "text": [
      "+--------------------+------------+------------+--------------------+-------+---+-------------+--------------------+--------------------+------------------+--------------------+\n",
      "|            bred_for| breed_group|country_code|         description|history| id|    life_span|                name|              origin|reference_image_id|         temperament|\n",
      "+--------------------+------------+------------+--------------------+-------+---+-------------+--------------------+--------------------+------------------+--------------------+\n",
      "|Small rodent hunt...|         Toy|        NULL|                NULL|   NULL|  1|10 - 12 years|       Affenpinscher|     Germany, France|         BJa4kxc4X|Stubborn, Curious...|\n",
      "|Coursing and hunting|       Hound|          AG|                NULL|   NULL|  2|10 - 13 years|        Afghan Hound|Afghanistan, Iran...|         hMyT4CDXR|Aloof, Clownish, ...|\n",
      "|  A wild pack animal|        NULL|        NULL|                NULL|   NULL|  3|     11 years| African Hunting Dog|                    |         rkiByec47|Wild, Hardworking...|\n",
      "|Badger, otter hun...|     Terrier|        NULL|                NULL|   NULL|  4|10 - 13 years|    Airedale Terrier|United Kingdom, E...|         1-7cgoZSh|Outgoing, Friendl...|\n",
      "|      Sheep guarding|     Working|        NULL|                NULL|   NULL|  5|10 - 12 years|          Akbash Dog|                    |         26pHT3Qk7|Loyal, Independen...|\n",
      "|       Hunting bears|     Working|        NULL|                NULL|   NULL|  6|10 - 14 years|               Akita|                NULL|         BFRYBufpm|Docile, Alert, Re...|\n",
      "|            Guarding|       Mixed|        NULL|The Alapaha Blue ...|       |  7|12 - 13 years|Alapaha Blue Bloo...|                NULL|         33mJ-V3RX|Loving, Protectiv...|\n",
      "|        Sled pulling|       Mixed|        NULL|                NULL|   NULL|  8|10 - 13 years|       Alaskan Husky|                NULL|         -HgpNnGXl|Friendly, Energet...|\n",
      "|Hauling heavy fre...|     Working|        NULL|                NULL|   NULL|  9|12 - 15 years|    Alaskan Malamute|                NULL|         dW5UucTIW|Friendly, Affecti...|\n",
      "|                NULL|     Working|        NULL|                NULL|   NULL| 10|10 - 12 years|    American Bulldog|                NULL|         pk1AAdloG|Friendly, Asserti...|\n",
      "|Family companion dog|            |          US|                NULL|   NULL| 11| 8 – 15 years|      American Bully|                NULL|         sqQJDtbpY|Strong Willed, St...|\n",
      "|    Circus performer|Non-Sporting|          US|                NULL|   NULL| 12|12 - 15 years| American Eskimo Dog|                NULL|         Bymjyec4m|Friendly, Alert, ...|\n",
      "|       Companionship|        NULL|          US|                NULL|   NULL| 13|13 – 15 years|American Eskimo D...|                NULL|         _gn8GLrE6|Friendly, Alert, ...|\n",
      "|Fox hunting, scen...|       Hound|          US|                NULL|   NULL| 14| 8 - 15 years|   American Foxhound|                NULL|         S14n1x9NQ|Kind, Sweet-Tempe...|\n",
      "|            Fighting|     Terrier|          US|                NULL|   NULL| 15|10 - 15 years|American Pit Bull...|                NULL|         HkC31gcNm|Strong Willed, St...|\n",
      "|                    |     Terrier|          US|                NULL|   NULL| 16|12 - 15 years|American Stafford...|                NULL|         rJIakgc4m|Tenacious, Friend...|\n",
      "|Bird flushing and...|    Sporting|          US|                NULL|   NULL| 17|10 - 12 years|American Water Sp...|                NULL|         SkmRJl9VQ|Friendly, Energet...|\n",
      "|   Livestock herding|     Working|        NULL|                NULL|   NULL| 18|11 - 13 years|Anatolian Shepher...|                NULL|         BJT0Jx5Nm|Steady, Bold, Ind...|\n",
      "|Herding livestock...|        NULL|        NULL|                NULL|   NULL| 19|12 – 14 years|Appenzeller Senne...|                NULL|         HkNkxlqEX|Reliable, Fearles...|\n",
      "|Cattle herding, h...|     Herding|          AU|                NULL|   NULL| 21|12 - 14 years|Australian Cattle...|                NULL|         IBkYVm4v1|Cautious, Energet...|\n",
      "+--------------------+------------+------------+--------------------+-------+---+-------------+--------------------+--------------------+------------------+--------------------+\n",
      "only showing top 20 rows\n",
      "\n"
     ]
    },
    {
     "data": {
      "text/plain": [
       "344"
      ]
     },
     "execution_count": 16,
     "metadata": {},
     "output_type": "execute_result"
    }
   ],
   "source": [
    "from pyspark.sql import SparkSession\n",
    "from pyspark.conf import SparkConf\n",
    "from pyspark.sql.functions import UserDefinedFunction, col, mean, log1p\n",
    "from pyspark.ml.stat import Correlation\n",
    "from pyspark.ml.feature import VectorAssembler\n",
    "import matplotlib.pyplot as plt\n",
    "import pandas as pd\n",
    "\n",
    "import os\n",
    "\n",
    "\"\"\"\n",
    "Spark session variables declaration and spark initialization\n",
    "\"\"\"\n",
    "\n",
    "path = os.getcwd()\n",
    "\n",
    "conf = SparkConf() \\\n",
    "    .setAppName(\"PostgreSQL Writing to Formatted Table\") \\\n",
    "    .set(\"spark.jars\", path+\"/../..\"+\"/driver/postgresql-42.7.3.jar\")\n",
    "\n",
    "spark = SparkSession.builder \\\n",
    "    .config(conf=conf) \\\n",
    "    .getOrCreate()\n",
    "\n",
    "\n",
    "\"\"\"\n",
    "Connection details for table from formatted zone read\n",
    "\"\"\"\n",
    "\n",
    "jdbc_url = \"jdbc:postgresql://localhost:5432/bda_p1\"\n",
    "driver_class = \"org.postgresql.Driver\"\n",
    "user = \"postgres\"\n",
    "password = \"postgres\"\n",
    "connectionProperties = {\"user\": user, \"password\": password}\n",
    "\n",
    "\n",
    "df = spark.read \\\n",
    "    .format(\"jdbc\") \\\n",
    "    .option(\"url\", jdbc_url) \\\n",
    "    .option(\"dbtable\", \"dog_caract2_formatted\") \\\n",
    "    .option(\"user\", connectionProperties[\"user\"]) \\\n",
    "    .option(\"password\", connectionProperties[\"password\"]) \\\n",
    "    .option(\"driver\", driver_class) \\\n",
    "    .load()\n",
    "\n",
    "\n",
    "df.show()\n",
    "df.count()"
   ]
  },
  {
   "cell_type": "markdown",
   "metadata": {},
   "source": [
    "# Missings Treatment"
   ]
  },
  {
   "cell_type": "code",
   "execution_count": 35,
   "metadata": {},
   "outputs": [
    {
     "name": "stdout",
     "output_type": "stream",
     "text": [
      "No Missing Values found on variable bred_for\n",
      "No Missing Values found on variable breed_group\n",
      "No Missing Values found on variable id\n",
      "No Missing Values found on variable name\n",
      "No Missing Values found on variable temperament\n"
     ]
    }
   ],
   "source": [
    "total_missings, missing_cols = 0, []\n",
    "\n",
    "ids = spark.createDataFrame([], schema=df.schema)\n",
    "ids = ids.select(col('id'))\n",
    "\n",
    "for name, dtype in df.dtypes:\n",
    "    try:\n",
    "        filtered_df = df.where(col(name).isNull()) # Trobem valors nuls\n",
    "        ids = ids.union(filtered_df.select(col('id'))).distinct()\n",
    "        class_count = filtered_df.groupBy(name).count()\n",
    "        number_of_missings = class_count.first()[\"count\"]\n",
    "        print(f'Missings for variable {name}: {number_of_missings}')\n",
    "        missing_cols.append(name)\n",
    "    except TypeError:\n",
    "        print(f\"No Missing Values found on variable {name}\")"
   ]
  },
  {
   "cell_type": "code",
   "execution_count": 15,
   "metadata": {},
   "outputs": [
    {
     "name": "stdout",
     "output_type": "stream",
     "text": [
      "172\n"
     ]
    }
   ],
   "source": [
    "total_missings = ids.count()\n",
    "\n",
    "print(total_missings)"
   ]
  },
  {
   "cell_type": "markdown",
   "metadata": {},
   "source": [
    "Tenim més columnes amb missings que el nombre total de missings perquè la variable id es troba repetida, i per tant, el que veiem és que tenim 172 gossos de races diferents amb columnes amb null values."
   ]
  },
  {
   "cell_type": "markdown",
   "metadata": {},
   "source": [
    "### Delete redundant columns"
   ]
  },
  {
   "cell_type": "code",
   "execution_count": 19,
   "metadata": {},
   "outputs": [
    {
     "name": "stdout",
     "output_type": "stream",
     "text": [
      "+--------------------+------------+---+--------------------+--------------------+\n",
      "|            bred_for| breed_group| id|                name|         temperament|\n",
      "+--------------------+------------+---+--------------------+--------------------+\n",
      "|Small rodent hunt...|         Toy|  1|       Affenpinscher|Stubborn, Curious...|\n",
      "|Coursing and hunting|       Hound|  2|        Afghan Hound|Aloof, Clownish, ...|\n",
      "|  A wild pack animal|        NULL|  3| African Hunting Dog|Wild, Hardworking...|\n",
      "|Badger, otter hun...|     Terrier|  4|    Airedale Terrier|Outgoing, Friendl...|\n",
      "|      Sheep guarding|     Working|  5|          Akbash Dog|Loyal, Independen...|\n",
      "|       Hunting bears|     Working|  6|               Akita|Docile, Alert, Re...|\n",
      "|            Guarding|       Mixed|  7|Alapaha Blue Bloo...|Loving, Protectiv...|\n",
      "|        Sled pulling|       Mixed|  8|       Alaskan Husky|Friendly, Energet...|\n",
      "|Hauling heavy fre...|     Working|  9|    Alaskan Malamute|Friendly, Affecti...|\n",
      "|                NULL|     Working| 10|    American Bulldog|Friendly, Asserti...|\n",
      "|Family companion dog|            | 11|      American Bully|Strong Willed, St...|\n",
      "|    Circus performer|Non-Sporting| 12| American Eskimo Dog|Friendly, Alert, ...|\n",
      "|       Companionship|        NULL| 13|American Eskimo D...|Friendly, Alert, ...|\n",
      "|Fox hunting, scen...|       Hound| 14|   American Foxhound|Kind, Sweet-Tempe...|\n",
      "|            Fighting|     Terrier| 15|American Pit Bull...|Strong Willed, St...|\n",
      "|                    |     Terrier| 16|American Stafford...|Tenacious, Friend...|\n",
      "|Bird flushing and...|    Sporting| 17|American Water Sp...|Friendly, Energet...|\n",
      "|   Livestock herding|     Working| 18|Anatolian Shepher...|Steady, Bold, Ind...|\n",
      "|Herding livestock...|        NULL| 19|Appenzeller Senne...|Reliable, Fearles...|\n",
      "|Cattle herding, h...|     Herding| 21|Australian Cattle...|Cautious, Energet...|\n",
      "+--------------------+------------+---+--------------------+--------------------+\n",
      "only showing top 20 rows\n",
      "\n"
     ]
    }
   ],
   "source": [
    "# Aquestes columnes tenen 320, 342, 340, 334 files amb missings respectivament\n",
    "# Això son valors molt considerables si tenim en compte que el total de files és 344\n",
    "cols_missings = [\"country_code\", \"description\", \"history\", \"origin\"]\n",
    "\n",
    "# Aquestes columnes ja les trobem en taula de dog_caract, així que les treiem per a no tenir redundància\n",
    "cols_redundant = [\"life_span\"]\n",
    "\n",
    "# Aquesta no ens aporta cap informació ja que no usarem imatges\n",
    "cols_not_useful = [\"reference_image_id\"]\n",
    "\n",
    "df = df.drop(*cols_missings+cols_redundant+cols_not_useful)\n",
    "\n",
    "df.show()"
   ]
  },
  {
   "cell_type": "markdown",
   "metadata": {},
   "source": [
    "### Impute missings"
   ]
  },
  {
   "cell_type": "code",
   "execution_count": 34,
   "metadata": {},
   "outputs": [
    {
     "name": "stdout",
     "output_type": "stream",
     "text": [
      "value imputed for bred_for: Lapdog\n",
      "value imputed for breed_group: Working\n",
      "value imputed for temperament: Friendly, Alert, Reserved, Intelligent, Protective\n"
     ]
    }
   ],
   "source": [
    "for name, data_type in df.dtypes:        \n",
    "    if name in missing_cols:\n",
    "        if data_type == 'string':\n",
    "\n",
    "            #  Agrupem els diferents valors de la columna\n",
    "            grouped_df = df.groupBy(col(name))\n",
    "\n",
    "            value_counts = grouped_df.count()\n",
    "\n",
    "            # Els ordenem de més comuns a menys\n",
    "            sorted_counts = value_counts.orderBy(col('count').desc())\n",
    "\n",
    "            # Comprovem si el primer valor és el valor null\n",
    "            first_value = sorted_counts.first()[0]\n",
    "            if first_value is None: \n",
    "                # Si ho és, agafem el segon valor\n",
    "                most_common_value = sorted_counts.limit(2).collect()[1][name] # De les dues primeres files, ens quedem amb la segona\n",
    "            else:\n",
    "                most_common_value = sorted_counts.first()[name]\n",
    "                \n",
    "            print(f\"value imputed for {name}:\", most_common_value)\n",
    "\n",
    "            udf = UserDefinedFunction(lambda x: most_common_value if x==None else x, data_type)\n",
    "\n",
    "            df = df.select(*[udf(column).alias(name) if column == name else column for column in df.columns])\n"
   ]
  },
  {
   "cell_type": "markdown",
   "metadata": {},
   "source": [
    "Comprovem que no queden missings:"
   ]
  },
  {
   "cell_type": "code",
   "execution_count": 36,
   "metadata": {},
   "outputs": [
    {
     "name": "stdout",
     "output_type": "stream",
     "text": [
      "No Missing Values found on variable bred_for\n",
      "No Missing Values found on variable breed_group\n",
      "No Missing Values found on variable id\n",
      "No Missing Values found on variable name\n",
      "No Missing Values found on variable temperament\n"
     ]
    }
   ],
   "source": [
    "total_missings, missing_cols = 0, []\n",
    "\n",
    "ids = spark.createDataFrame([], schema=df.schema)\n",
    "ids = ids.select(col('id'))\n",
    "\n",
    "for name, dtype in df.dtypes:\n",
    "    try:\n",
    "        filtered_df = df.where(col(name).isNull()) # Trobem valors nuls\n",
    "        ids = ids.union(filtered_df.select(col('id'))).distinct()\n",
    "        class_count = filtered_df.groupBy(name).count()\n",
    "        number_of_missings = class_count.first()[\"count\"]\n",
    "        print(f'Missings for variable {name}: {number_of_missings}')\n",
    "        missing_cols.append(name)\n",
    "    except TypeError:\n",
    "        print(f\"No Missing Values found on variable {name}\")"
   ]
  },
  {
   "cell_type": "markdown",
   "metadata": {},
   "source": [
    "# Data Distribution Visualization"
   ]
  },
  {
   "cell_type": "code",
   "execution_count": null,
   "metadata": {},
   "outputs": [],
   "source": []
  },
  {
   "cell_type": "markdown",
   "metadata": {},
   "source": [
    "# Outliers Detection"
   ]
  },
  {
   "cell_type": "code",
   "execution_count": 11,
   "metadata": {},
   "outputs": [
    {
     "name": "stdout",
     "output_type": "stream",
     "text": [
      "Number of rows prior to outliers removal: 1104\n",
      "Number of rows after outliers removal: 784\n",
      "Percentage of rows that present outliers: 0.28985507246376807\n"
     ]
    }
   ],
   "source": [
    "print(\"Number of rows prior to outliers removal:\",df.count())\n",
    "\n",
    "df_filtered = df\n",
    "\n",
    "factor = 1.5\n",
    "for name, data_type in df.dtypes:\n",
    "\n",
    "    if data_type == \"bigint\" or data_type == \"double\":\n",
    "\n",
    "        quantiles = df.approxQuantile(name, [0.25, 0.75], 0.01)\n",
    "        q1, q3 = quantiles[0], quantiles[1]\n",
    "        iqr = q3 - q1\n",
    "\n",
    "        lower_bound = q1 - factor * iqr\n",
    "        upper_bound = q3 + factor * iqr\n",
    "\n",
    "        df_filtered = df_filtered.filter((col(name) >= lower_bound) & (col(name) <= upper_bound))\n",
    "\n",
    "print(\"Number of rows after outliers removal:\",df_filtered.count())\n",
    "print(\"Percentage of rows that present outliers:\",1-df_filtered.count()/df.count())"
   ]
  },
  {
   "cell_type": "markdown",
   "metadata": {},
   "source": [
    "Almost 30% of data is considered an outlier so imputing it could have great consequences and thus, we will leave the data as it is however, it could be removed and the code to do it is provided below with continue statement so that it may not be executed. Also an imputation by mean could be done just as it is done at the missing imputation code however, we will not get much into details of something that we will not do."
   ]
  },
  {
   "cell_type": "code",
   "execution_count": 12,
   "metadata": {},
   "outputs": [],
   "source": [
    "factor = 1.5\n",
    "for name, data_type in df.dtypes:\n",
    "    continue\n",
    "\n",
    "    if data_type == \"int\":\n",
    "\n",
    "        quantiles = df.approxQuantile(name, [0.25, 0.75], 0.01)\n",
    "        q1, q3 = quantiles[0], quantiles[1]\n",
    "        iqr = q3 - q1\n",
    "\n",
    "        lower_bound = q1 - factor * iqr\n",
    "        upper_bound = q3 + factor * iqr\n",
    "\n",
    "        df = df.filter((col(name) >= lower_bound) & (col(name) <= upper_bound))"
   ]
  },
  {
   "cell_type": "markdown",
   "metadata": {},
   "source": [
    "# Variable Renaming"
   ]
  },
  {
   "cell_type": "code",
   "execution_count": 13,
   "metadata": {},
   "outputs": [
    {
     "data": {
      "text/plain": [
       "['barking',\n",
       " 'coat_length',\n",
       " 'drooling',\n",
       " 'energy',\n",
       " 'good_with_children',\n",
       " 'good_with_other_dogs',\n",
       " 'good_with_strangers',\n",
       " 'grooming',\n",
       " 'Breed',\n",
       " 'playfulness',\n",
       " 'protectiveness',\n",
       " 'shedding',\n",
       " 'trainability',\n",
       " 'avg_height_female',\n",
       " 'avg_height_male',\n",
       " 'avg_life_expectancy',\n",
       " 'avg_weight_male_log_normalized',\n",
       " 'avg_weight_female_log_normalized']"
      ]
     },
     "execution_count": 13,
     "metadata": {},
     "output_type": "execute_result"
    }
   ],
   "source": [
    "# The variable that needs to be renamed in order for our data to be joined\n",
    "df = df.withColumnRenamed(\"name\", \"Breed\")\n",
    "df = df.drop(\"image_link\")\n",
    "df.columns"
   ]
  },
  {
   "cell_type": "markdown",
   "metadata": {},
   "source": [
    "# Data Storage"
   ]
  },
  {
   "cell_type": "code",
   "execution_count": 14,
   "metadata": {},
   "outputs": [
    {
     "name": "stderr",
     "output_type": "stream",
     "text": [
      "24/04/24 19:33:41 WARN SparkStringUtils: Truncated the string representation of a plan since it was too large. This behavior can be adjusted by setting 'spark.sql.debug.maxToStringFields'.\n"
     ]
    }
   ],
   "source": [
    "jdbc_url = \"jdbc:postgresql://localhost:5432/bda_project1_db\"\n",
    "driver_class = \"org.postgresql.Driver\"\n",
    "user = \"postgres\"\n",
    "password = \"hola123\"\n",
    "connectionProperties = {\"user\": \"postgres\", \"password\": \"hola123\"}\n",
    "\n",
    "\n",
    "df.write \\\n",
    "  .format(\"jdbc\") \\\n",
    "  .option(\"url\", jdbc_url) \\\n",
    "  .option(\"driver\", \"org.postgresql.Driver\") \\\n",
    "  .option(\"dbtable\", \"dog_caract_trusted\") \\\n",
    "  .option(\"user\", connectionProperties[\"user\"]) \\\n",
    "  .option(\"password\", connectionProperties[\"password\"]) \\\n",
    "  .mode(\"append\") \\\n",
    "  .jdbc(jdbc_url,\"dog_caract_trusted\")"
   ]
  }
 ],
 "metadata": {
  "kernelspec": {
   "display_name": "Python 3",
   "language": "python",
   "name": "python3"
  },
  "language_info": {
   "codemirror_mode": {
    "name": "ipython",
    "version": 3
   },
   "file_extension": ".py",
   "mimetype": "text/x-python",
   "name": "python",
   "nbconvert_exporter": "python",
   "pygments_lexer": "ipython3",
   "version": "3.10.12"
  }
 },
 "nbformat": 4,
 "nbformat_minor": 2
}
